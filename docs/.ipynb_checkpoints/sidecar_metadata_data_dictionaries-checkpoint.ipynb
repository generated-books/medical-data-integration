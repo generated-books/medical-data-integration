
{
  "cells": [
    {
      "cell_type": "markdown",
      "metadata": {},
      "source": [
        "# Sidecar Metadata (JSON/YAML) and Data Dictionaries\n",
        "\n",
        "In medical data integration, metadata plays a crucial role in ensuring data interoperability, reproducibility, and proper interpretation. This notebook explores sidecar metadata files and data dictionaries, which are essential components for documenting and standardizing medical datasets."
      ]
    },
    {
      "cell_type": "markdown",
      "metadata": {},
      "source": [
        "## What is Sidecar Metadata?\n",
        "\n",
        "Sidecar metadata refers to separate files that accompany primary data files, containing descriptive information about the data structure, collection parameters, and other relevant details. In medical imaging and research, these are commonly stored as JSON or YAML files."
      ]
    },
    {
      "cell_type": "markdown",
      "metadata": {},
      "source": [
        "Let's start by importing the necessary libraries for working with JSON and YAML files."
      ]
    },
    {
      "cell_type": "code",
      "execution_count": null,
      "metadata": {},
      "outputs": [],
      "source": [
        "import json\n",
        "import yaml\n",
        "import pandas as pd\n",
        "from pathlib import Path"
      ]
    },
    {
      "cell_type": "markdown",
      "metadata": {},
      "source": [
        "## Creating a JSON Sidecar File\n",
        "\n",
        "Let's create a simple JSON sidecar file for a medical imaging dataset following BIDS (Brain Imaging Data Structure) conventions."
      ]
    },
    {
      "cell_type": "code",
      "execution_count": null,
      "metadata": {},
      "outputs": [],
      "source": [
        "# Create metadata for an MRI scan\n",
        "mri_metadata = {\n",
        "    \"Modality\": \"MR\",\n",
        "    \"MagneticFieldStrength\": 3.0,\n",
        "    \"Manufacturer\": \"Siemens\",\n",
        "    \"ManufacturersModelName\": \"Prisma\",\n",
        "    \"InstitutionName\": \"University Medical Center\",\n",
        "    \"SequenceName\": \"T1_MPRAGE\",\n",
        "    \"SliceThickness\": 1.0,\n",
        "    \"RepetitionTime\": 2.3,\n",
        "    \"EchoTime\": 0.00226,\n",
        "    \"FlipAngle\": 8\n",
        "}"
      ]
    },
    {
      "cell_type": "markdown",
      "metadata": {},
      "source": [
        "Now let's save this metadata as a JSON file and display its contents."
      ]
    },
    {
      "cell_type": "code",
      "execution_count": null,
      "metadata": {},
      "outputs": [],
      "source": [
        "# Save as JSON\n",
        "with open('T1w.json', 'w') as f:\n",
        "    json.dump(mri_metadata, f, indent=2)\n",
        "\n",
        "# Display the JSON content\n",
        "print(\"JSON Sidecar Content:\")\n",
        "print(json.dumps(mri_metadata, indent=2))"
      ]
    },
    {
      "cell_type": "markdown",
      "metadata": {},
      "source": [
        "## Creating a YAML Sidecar File\n",
        "\n",
        "YAML is another popular format for metadata due to its human-readable structure. Let's create the same metadata in YAML format."
      ]
    },
    {
      "cell_type": "code",
      "execution_count": null,
      "metadata": {},
      "outputs": [],
      "source": [
        "# Save as YAML\n",
        "with open('T1w.yaml', 'w') as f:\n",
        "    yaml.dump(mri_metadata, f, default_flow_style=False)\n",
        "\n",
        "# Display the YAML content\n",
        "print(\"YAML Sidecar Content:\")\n",
        "print(yaml.dump(mri_metadata, default_flow_style=False))"
      ]
    },
    {
      "cell_type": "markdown",
      "metadata": {},
      "source": [
        "## Data Dictionaries\n",
        "\n",
        "A data dictionary provides detailed descriptions of variables in a dataset. Let's create a data dictionary for a clinical research study."
      ]
    },
    {
      "cell_type": "code",
      "execution_count": null,
      "metadata": {},
      "outputs": [],
      "source": [
        "# Create a data dictionary for clinical variables\n",
        "data_dictionary = [\n",
        "    {\n",
        "        \"variable_name\": \"patient_id\",\n",
        "        \"description\": \"Unique patient identifier\",\n",
        "        \"type\": \"string\",\n",
        "        \"format\": \"PID-XXXXX\",\n",
        "        \"required\": True\n",
        "    },\n",
        "    {\n",
        "        \"variable_name\": \"age\",\n",
        "        \"description\": \"Patient age at time of scan\",\n",
        "        \"type\": \"integer\",\n",
        "        \"units\": \"years\",\n",
        "        \"min_value\": 18,\n",
        "        \"max_value\": 100,\n",
        "        \"required\": True\n",
        "    },\n",
        "    {\n",
        "        \"variable_name\": \"diagnosis\",\n",
        "        \"description\": \"Primary diagnosis\",\n",
        "        \"type\": \"categorical\",\n",
        "        \"levels\": {\n",
        "            \"HC\": \"Healthy Control\",\n",
        "            \"MCI\": \"Mild Cognitive Impairment\",\n",
        "            \"AD\": \"Alzheimer's Disease\"\n",
        "        },\n",
        "        \"required\": True\n",
        "    },\n",
        "    {\n",
        "        \"variable_name\": \"mmse_score\",\n",
        "        \"description\": \"Mini-Mental State Examination score\",\n",
        "        \"type\": \"integer\",\n",
        "        \"min_value\": 0,\n",
        "        \"max_value\": 30,\n",
        "        \"missing_values\": [-999, \"NA\"],\n",
        "        \"required\": False\n",
        "    }\n",
        "]"
      ]
    },
    {
      "cell_type": "markdown",
      "metadata": {},
      "source": [
        "Let's convert this data dictionary to a pandas DataFrame for better visualization."
      ]
    },
    {
      "cell_type": "code",
      "execution_count": null,
      "metadata": {},
      "outputs": [],
      "source": [
        "# Convert to DataFrame\n",
        "dd_df = pd.DataFrame(data_dictionary)\n",
        "dd_df"
      ]
    },
    {
      "cell_type": "markdown",
      "metadata": {},
      "source": [
        "Save the data dictionary as both JSON and CSV formats for different use cases."
      ]
    },
    {
      "cell_type": "code",
      "execution_count": null,
      "metadata": {},
      "outputs": [],
      "source": [
        "# Save as JSON\n",
        "with open('data_dictionary.json', 'w') as f:\n",
        "    json.dump(data_dictionary, f, indent=2)\n",
        "\n",
        "# Save as CSV\n",
        "dd_df.to_csv('data_dictionary.csv', index=False)\n",
        "\n",
        "print(\"Data dictionary saved as 'data_dictionary.json' and 'data_dictionary.csv'\")"
      ]
    },
    {
      "cell_type": "markdown",
      "metadata": {},
      "source": [
        "## Validating Data Against the Dictionary\n",
        "\n",
        "Let's create a sample dataset and validate it against our data dictionary."
      ]
    },
    {
      "cell_type": "code",
      "execution_count": null,
      "metadata": {},
      "outputs": [],
      "source": [
        "# Create sample data\n",
        "sample_data = pd.DataFrame({\n",
        "    'patient_id': ['PID-00001', 'PID-00002', 'PID-00003'],\n",
        "    'age': [65, 72, 45],\n",
        "    'diagnosis': ['HC', 'MCI', 'AD'],\n",
        "    'mmse_score': [29, 24, -999]  # -999 represents missing value\n",
        "})\n",
        "\n",
        "sample_data"
      ]
    },
    {
      "cell_type": "markdown",
      "metadata": {},
      "source": [
        "Now let's create a simple validation function to check if our data conforms to the data dictionary specifications."
      ]
    },
    {
      "cell_type": "code",
      "execution_count": null,
      "metadata": {},
      "outputs": [],
      "source": [
        "def validate_data(df, data_dict):\n",
        "    \"\"\"Validate dataframe against data dictionary\"\"\"\n",
        "    validation_results = []\n",
        "    \n",
        "    for var_info in data_dict:\n",
        "        var_name = var_info['variable_name']\n",
        "        \n",
        "        # Check if required variable exists\n",
        "        if var_info.get('required', False) and var_name not in df.columns:\n",
        "            validation_results.append(f\"❌ Required variable '{var_name}' is missing\")\n",
        "            continue\n",
        "            \n",
        "        if var_name in df.columns:\n",
        "            # Check value ranges for numeric variables\n",
        "            if 'min_value' in var_info:\n",
        "                valid_data = df[var_name].apply(lambda x: x in var_info.get('missing_values', []) or x >= var_info['min_value'])\n",
        "                if not valid_data.all():\n",
        "                    validation_results.append(f\"⚠️  Variable '{var_name}' has values below minimum ({var_info['min_value']})\")\n",
        "            \n",
        "            # Check categorical levels\n",
        "            if var_info['type'] == 'categorical' and 'levels' in var_info:\n",
        "                valid_levels = set(var_info['levels'].keys())\n",
        "                actual_levels = set(df[var_name].unique())\n",
        "                if not actual_levels.issubset(valid_levels):\n",
        "                    validation_results.append(f\"⚠️  Variable '{var_name}' has invalid levels: {actual_levels - valid_levels}\")\n",
        "            \n",
        "            validation_results.append(f\"✅ Variable '{var_name}' validated successfully\")\n",
        "    \n",
        "    return validation_results"
      ]
    },
    {
      "cell_type": "markdown",
      "metadata": {},
      "source": [
        "Run the validation on our sample data."
      ]
    },
    {
      "cell_type": "code",
      "execution_count": null,
      "metadata": {},
      "outputs": [],
      "source": [
        "# Validate the sample data\n",
        "results = validate_data(sample_data, data_dictionary)\n",
        "for result in results:\n",
        "    print(result)"
      ]
    },
    {
      "cell_type": "markdown",
      "metadata": {},
      "source": [
        "## Creating a Complete Metadata Package\n",
        "\n",
        "Let's create a comprehensive metadata package that includes both sidecar metadata and data dictionary information."
      ]
    },
    {
      "cell_type": "code",
      "execution_count": null,
      "metadata": {},
      "outputs": [],
      "source": [
        "# Create a complete metadata package\n",
        "metadata_package = {\n",
        "    \"dataset_description\": {\n",
        "        \"Name\": \"Alzheimer's Disease Neuroimaging Study\",\n",
        "        \"BIDSVersion\": \"1.6.0\",\n",
        "        \"License\": \"CC BY 4.0\",\n",
        "        \"Authors\": [\"Dr. Smith\", \"Dr. Johnson\"],\n",
        "        \"Acknowledgements\": \"Funded by NIH Grant #12345\",\n",
        "        \"HowToAcknowledge\": \"Please cite our paper: Smith et al. (2023)\",\n",
        "        \"ReferencesAndLinks\": [\"https://doi.org/10.1234/example\"]\n",
        "    },\n",
        "    \"imaging_parameters\": mri_metadata,\n",
        "    \"participant_variables\": data_dictionary\n",
        "}\n",
        "\n",
        "# Save the complete package\n",
        "with open('dataset_metadata.json', 'w') as f:\n",
        "    json.dump(metadata_package, f, indent=2)\n",
        "\n",
        "print(\"Complete metadata package created successfully!\")"
      ]
    },
    {
      "cell_type": "markdown",
      "metadata": {},
      "source": [
        "Display a summary of the metadata package structure."
      ]
    },
    {
      "cell_type": "code",
      "execution_count": null,
      "metadata": {},
      "outputs": [],
      "source": [
        "# Display package structure\n",
        "print(\"Metadata Package Structure:\")\n",
        "print(\"-\" * 50)\n",
        "for key in metadata_package.keys():\n",
        "    print(f\"📁 {key}\")\n",
        "    if isinstance(metadata_package[key], dict):\n",
        "        for subkey in metadata_package[key].keys():\n",
        "            print(f\"   └── {subkey}\")\n",
        "    elif isinstance(metadata_package[key], list):\n",
        "        print(f\"   └── {len(metadata_package[key])} items\")"
      ]
    },
    {
      "cell_type": "markdown",
      "metadata": {},
      "source": [
        "## Exercise\n",
        "\n",
        "Create a sidecar metadata file and data dictionary for a hypothetical COVID-19 patient monitoring dataset that includes:\n",
        "\n",
        "1. **Sidecar metadata** (save as both JSON and YAML):\n",
        "   - Study name: \"COVID-19 Longitudinal Monitoring\"\n",
        "   - Data collection period: \"2020-03-01 to 2021-12-31\"\n",
        "   - Institution: Your choice\n",
        "   - Ethics approval number: \"ETH-2020-001\"\n",
        "\n",
        "2. **Data dictionary** with at least 5 variables including:\n",
        "   - Patient ID (string, required)\n",
        "   - Temperature (numeric, range 35-42°C)\n",
        "   - Oxygen saturation (numeric, range 0-100%)\n",
        "   - COVID test result (categorical: positive/negative/pending)\n",
        "   - At least one more clinical variable of your choice\n",
        "\n",
        "3. Create sample data for 5 patients and validate it against your data dictionary\n",
        "\n",
        "4. Combine everything into a single metadata package and save it as 'covid_metadata_package.json'\n",
        "\n",
        "Bonus: Create a function that automatically generates a human-readable report from your metadata package."
      ]
    }
  ],
  "metadata": {
    "kernelspec": {
      "display_name": "Python 3",
      "language": "python",
      "name": "python3"
    },
    "language_info": {
      "codemirror_mode": {
        "name": "ipython",
        "version": 3
      },
      "file_extension": ".py",
      "mimetype": "text/x-python",
      "name": "python",
      "nbconvert_exporter": "python",
      "pygments_lexer": "ipython3",
      "version": "3.8.0"
    }
  },
  "nbformat": 4,
  "nbformat_minor": 4
}
