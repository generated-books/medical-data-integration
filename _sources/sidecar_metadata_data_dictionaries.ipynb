{
 "cells": [
  {
   "cell_type": "markdown",
   "metadata": {},
   "source": [
    "# Sidecar Metadata (JSON/YAML) and Data Dictionaries\n",
    "\n",
    "In medical data integration, metadata plays a crucial role in ensuring data interoperability, reproducibility, and proper interpretation. This notebook explores sidecar metadata files and data dictionaries, which are essential components for documenting and standardizing medical datasets."
   ]
  },
  {
   "cell_type": "markdown",
   "metadata": {},
   "source": [
    "## What is Sidecar Metadata?\n",
    "\n",
    "Sidecar metadata refers to separate files that accompany primary data files, containing descriptive information about the data structure, collection parameters, and other relevant details. In medical imaging and research, these are commonly stored as JSON or YAML files."
   ]
  },
  {
   "cell_type": "markdown",
   "metadata": {},
   "source": [
    "Let's start by importing the necessary libraries for working with JSON and YAML files."
   ]
  },
  {
   "cell_type": "code",
   "execution_count": 1,
   "metadata": {},
   "outputs": [],
   "source": [
    "import json\n",
    "import yaml\n",
    "import pandas as pd\n",
    "from pathlib import Path"
   ]
  },
  {
   "cell_type": "markdown",
   "metadata": {},
   "source": [
    "## Creating a JSON Sidecar File\n",
    "\n",
    "Let's create a simple JSON sidecar file for a medical imaging dataset following BIDS (Brain Imaging Data Structure) conventions."
   ]
  },
  {
   "cell_type": "code",
   "execution_count": 2,
   "metadata": {},
   "outputs": [],
   "source": [
    "# Create metadata for an MRI scan\n",
    "mri_metadata = {\n",
    "    \"Modality\": \"MR\",\n",
    "    \"MagneticFieldStrength\": 3.0,\n",
    "    \"Manufacturer\": \"Siemens\",\n",
    "    \"ManufacturersModelName\": \"Prisma\",\n",
    "    \"InstitutionName\": \"University Medical Center\",\n",
    "    \"SequenceName\": \"T1_MPRAGE\",\n",
    "    \"SliceThickness\": 1.0,\n",
    "    \"RepetitionTime\": 2.3,\n",
    "    \"EchoTime\": 0.00226,\n",
    "    \"FlipAngle\": 8\n",
    "}"
   ]
  },
  {
   "cell_type": "markdown",
   "metadata": {},
   "source": [
    "Now let's save this metadata as a JSON file and display its contents."
   ]
  },
  {
   "cell_type": "code",
   "execution_count": 3,
   "metadata": {},
   "outputs": [
    {
     "name": "stdout",
     "output_type": "stream",
     "text": [
      "JSON Sidecar Content:\n",
      "{\n",
      "  \"Modality\": \"MR\",\n",
      "  \"MagneticFieldStrength\": 3.0,\n",
      "  \"Manufacturer\": \"Siemens\",\n",
      "  \"ManufacturersModelName\": \"Prisma\",\n",
      "  \"InstitutionName\": \"University Medical Center\",\n",
      "  \"SequenceName\": \"T1_MPRAGE\",\n",
      "  \"SliceThickness\": 1.0,\n",
      "  \"RepetitionTime\": 2.3,\n",
      "  \"EchoTime\": 0.00226,\n",
      "  \"FlipAngle\": 8\n",
      "}\n"
     ]
    }
   ],
   "source": [
    "# Save as JSON\n",
    "with open('T1w.json', 'w') as f:\n",
    "    json.dump(mri_metadata, f, indent=2)\n",
    "\n",
    "# Display the JSON content\n",
    "print(\"JSON Sidecar Content:\")\n",
    "print(json.dumps(mri_metadata, indent=2))"
   ]
  },
  {
   "cell_type": "markdown",
   "metadata": {},
   "source": [
    "## Creating a YAML Sidecar File\n",
    "\n",
    "YAML is another popular format for metadata due to its human-readable structure. Let's create the same metadata in YAML format."
   ]
  },
  {
   "cell_type": "code",
   "execution_count": 4,
   "metadata": {},
   "outputs": [
    {
     "name": "stdout",
     "output_type": "stream",
     "text": [
      "YAML Sidecar Content:\n",
      "EchoTime: 0.00226\n",
      "FlipAngle: 8\n",
      "InstitutionName: University Medical Center\n",
      "MagneticFieldStrength: 3.0\n",
      "Manufacturer: Siemens\n",
      "ManufacturersModelName: Prisma\n",
      "Modality: MR\n",
      "RepetitionTime: 2.3\n",
      "SequenceName: T1_MPRAGE\n",
      "SliceThickness: 1.0\n",
      "\n"
     ]
    }
   ],
   "source": [
    "# Save as YAML\n",
    "with open('T1w.yaml', 'w') as f:\n",
    "    yaml.dump(mri_metadata, f, default_flow_style=False)\n",
    "\n",
    "# Display the YAML content\n",
    "print(\"YAML Sidecar Content:\")\n",
    "print(yaml.dump(mri_metadata, default_flow_style=False))"
   ]
  },
  {
   "cell_type": "markdown",
   "metadata": {},
   "source": [
    "## Data Dictionaries\n",
    "\n",
    "A data dictionary provides detailed descriptions of variables in a dataset. Let's create a data dictionary for a clinical research study."
   ]
  },
  {
   "cell_type": "code",
   "execution_count": 5,
   "metadata": {},
   "outputs": [],
   "source": [
    "# Create a data dictionary for clinical variables\n",
    "data_dictionary = [\n",
    "    {\n",
    "        \"variable_name\": \"patient_id\",\n",
    "        \"description\": \"Unique patient identifier\",\n",
    "        \"type\": \"string\",\n",
    "        \"format\": \"PID-XXXXX\",\n",
    "        \"required\": True\n",
    "    },\n",
    "    {\n",
    "        \"variable_name\": \"age\",\n",
    "        \"description\": \"Patient age at time of scan\",\n",
    "        \"type\": \"integer\",\n",
    "        \"units\": \"years\",\n",
    "        \"min_value\": 18,\n",
    "        \"max_value\": 100,\n",
    "        \"required\": True\n",
    "    },\n",
    "    {\n",
    "        \"variable_name\": \"diagnosis\",\n",
    "        \"description\": \"Primary diagnosis\",\n",
    "        \"type\": \"categorical\",\n",
    "        \"levels\": {\n",
    "            \"HC\": \"Healthy Control\",\n",
    "            \"MCI\": \"Mild Cognitive Impairment\",\n",
    "            \"AD\": \"Alzheimer's Disease\"\n",
    "        },\n",
    "        \"required\": True\n",
    "    },\n",
    "    {\n",
    "        \"variable_name\": \"mmse_score\",\n",
    "        \"description\": \"Mini-Mental State Examination score\",\n",
    "        \"type\": \"integer\",\n",
    "        \"min_value\": 0,\n",
    "        \"max_value\": 30,\n",
    "        \"missing_values\": [-999, \"NA\"],\n",
    "        \"required\": False\n",
    "    }\n",
    "]"
   ]
  },
  {
   "cell_type": "markdown",
   "metadata": {},
   "source": [
    "Let's convert this data dictionary to a pandas DataFrame for better visualization."
   ]
  },
  {
   "cell_type": "code",
   "execution_count": 6,
   "metadata": {},
   "outputs": [
    {
     "data": {
      "text/html": [
       "<div>\n",
       "<style scoped>\n",
       "    .dataframe tbody tr th:only-of-type {\n",
       "        vertical-align: middle;\n",
       "    }\n",
       "\n",
       "    .dataframe tbody tr th {\n",
       "        vertical-align: top;\n",
       "    }\n",
       "\n",
       "    .dataframe thead th {\n",
       "        text-align: right;\n",
       "    }\n",
       "</style>\n",
       "<table border=\"1\" class=\"dataframe\">\n",
       "  <thead>\n",
       "    <tr style=\"text-align: right;\">\n",
       "      <th></th>\n",
       "      <th>variable_name</th>\n",
       "      <th>description</th>\n",
       "      <th>type</th>\n",
       "      <th>format</th>\n",
       "      <th>required</th>\n",
       "      <th>units</th>\n",
       "      <th>min_value</th>\n",
       "      <th>max_value</th>\n",
       "      <th>levels</th>\n",
       "      <th>missing_values</th>\n",
       "    </tr>\n",
       "  </thead>\n",
       "  <tbody>\n",
       "    <tr>\n",
       "      <th>0</th>\n",
       "      <td>patient_id</td>\n",
       "      <td>Unique patient identifier</td>\n",
       "      <td>string</td>\n",
       "      <td>PID-XXXXX</td>\n",
       "      <td>True</td>\n",
       "      <td>NaN</td>\n",
       "      <td>NaN</td>\n",
       "      <td>NaN</td>\n",
       "      <td>NaN</td>\n",
       "      <td>NaN</td>\n",
       "    </tr>\n",
       "    <tr>\n",
       "      <th>1</th>\n",
       "      <td>age</td>\n",
       "      <td>Patient age at time of scan</td>\n",
       "      <td>integer</td>\n",
       "      <td>NaN</td>\n",
       "      <td>True</td>\n",
       "      <td>years</td>\n",
       "      <td>18.0</td>\n",
       "      <td>100.0</td>\n",
       "      <td>NaN</td>\n",
       "      <td>NaN</td>\n",
       "    </tr>\n",
       "    <tr>\n",
       "      <th>2</th>\n",
       "      <td>diagnosis</td>\n",
       "      <td>Primary diagnosis</td>\n",
       "      <td>categorical</td>\n",
       "      <td>NaN</td>\n",
       "      <td>True</td>\n",
       "      <td>NaN</td>\n",
       "      <td>NaN</td>\n",
       "      <td>NaN</td>\n",
       "      <td>{'HC': 'Healthy Control', 'MCI': 'Mild Cogniti...</td>\n",
       "      <td>NaN</td>\n",
       "    </tr>\n",
       "    <tr>\n",
       "      <th>3</th>\n",
       "      <td>mmse_score</td>\n",
       "      <td>Mini-Mental State Examination score</td>\n",
       "      <td>integer</td>\n",
       "      <td>NaN</td>\n",
       "      <td>False</td>\n",
       "      <td>NaN</td>\n",
       "      <td>0.0</td>\n",
       "      <td>30.0</td>\n",
       "      <td>NaN</td>\n",
       "      <td>[-999, NA]</td>\n",
       "    </tr>\n",
       "  </tbody>\n",
       "</table>\n",
       "</div>"
      ],
      "text/plain": [
       "  variable_name                          description         type     format  \\\n",
       "0    patient_id            Unique patient identifier       string  PID-XXXXX   \n",
       "1           age          Patient age at time of scan      integer        NaN   \n",
       "2     diagnosis                    Primary diagnosis  categorical        NaN   \n",
       "3    mmse_score  Mini-Mental State Examination score      integer        NaN   \n",
       "\n",
       "   required  units  min_value  max_value  \\\n",
       "0      True    NaN        NaN        NaN   \n",
       "1      True  years       18.0      100.0   \n",
       "2      True    NaN        NaN        NaN   \n",
       "3     False    NaN        0.0       30.0   \n",
       "\n",
       "                                              levels missing_values  \n",
       "0                                                NaN            NaN  \n",
       "1                                                NaN            NaN  \n",
       "2  {'HC': 'Healthy Control', 'MCI': 'Mild Cogniti...            NaN  \n",
       "3                                                NaN     [-999, NA]  "
      ]
     },
     "execution_count": 6,
     "metadata": {},
     "output_type": "execute_result"
    }
   ],
   "source": [
    "# Convert to DataFrame\n",
    "dd_df = pd.DataFrame(data_dictionary)\n",
    "dd_df"
   ]
  },
  {
   "cell_type": "markdown",
   "metadata": {},
   "source": [
    "Save the data dictionary as both JSON and CSV formats for different use cases."
   ]
  },
  {
   "cell_type": "code",
   "execution_count": 7,
   "metadata": {},
   "outputs": [
    {
     "name": "stdout",
     "output_type": "stream",
     "text": [
      "Data dictionary saved as 'data_dictionary.json' and 'data_dictionary.csv'\n"
     ]
    }
   ],
   "source": [
    "# Save as JSON\n",
    "with open('data_dictionary.json', 'w') as f:\n",
    "    json.dump(data_dictionary, f, indent=2)\n",
    "\n",
    "# Save as CSV\n",
    "dd_df.to_csv('data_dictionary.csv', index=False)\n",
    "\n",
    "print(\"Data dictionary saved as 'data_dictionary.json' and 'data_dictionary.csv'\")"
   ]
  },
  {
   "cell_type": "markdown",
   "metadata": {},
   "source": [
    "## Validating Data Against the Dictionary\n",
    "\n",
    "Let's create a sample dataset and validate it against our data dictionary."
   ]
  },
  {
   "cell_type": "code",
   "execution_count": 8,
   "metadata": {},
   "outputs": [
    {
     "data": {
      "text/html": [
       "<div>\n",
       "<style scoped>\n",
       "    .dataframe tbody tr th:only-of-type {\n",
       "        vertical-align: middle;\n",
       "    }\n",
       "\n",
       "    .dataframe tbody tr th {\n",
       "        vertical-align: top;\n",
       "    }\n",
       "\n",
       "    .dataframe thead th {\n",
       "        text-align: right;\n",
       "    }\n",
       "</style>\n",
       "<table border=\"1\" class=\"dataframe\">\n",
       "  <thead>\n",
       "    <tr style=\"text-align: right;\">\n",
       "      <th></th>\n",
       "      <th>patient_id</th>\n",
       "      <th>age</th>\n",
       "      <th>diagnosis</th>\n",
       "      <th>mmse_score</th>\n",
       "    </tr>\n",
       "  </thead>\n",
       "  <tbody>\n",
       "    <tr>\n",
       "      <th>0</th>\n",
       "      <td>PID-00001</td>\n",
       "      <td>65</td>\n",
       "      <td>HC</td>\n",
       "      <td>29</td>\n",
       "    </tr>\n",
       "    <tr>\n",
       "      <th>1</th>\n",
       "      <td>PID-00002</td>\n",
       "      <td>72</td>\n",
       "      <td>MCI</td>\n",
       "      <td>24</td>\n",
       "    </tr>\n",
       "    <tr>\n",
       "      <th>2</th>\n",
       "      <td>PID-00003</td>\n",
       "      <td>45</td>\n",
       "      <td>AD</td>\n",
       "      <td>-999</td>\n",
       "    </tr>\n",
       "  </tbody>\n",
       "</table>\n",
       "</div>"
      ],
      "text/plain": [
       "  patient_id  age diagnosis  mmse_score\n",
       "0  PID-00001   65        HC          29\n",
       "1  PID-00002   72       MCI          24\n",
       "2  PID-00003   45        AD        -999"
      ]
     },
     "execution_count": 8,
     "metadata": {},
     "output_type": "execute_result"
    }
   ],
   "source": [
    "# Create sample data\n",
    "sample_data = pd.DataFrame({\n",
    "    'patient_id': ['PID-00001', 'PID-00002', 'PID-00003'],\n",
    "    'age': [65, 72, 45],\n",
    "    'diagnosis': ['HC', 'MCI', 'AD'],\n",
    "    'mmse_score': [29, 24, -999]  # -999 represents missing value\n",
    "})\n",
    "\n",
    "sample_data"
   ]
  },
  {
   "cell_type": "markdown",
   "metadata": {},
   "source": [
    "Now let's create a simple validation function to check if our data conforms to the data dictionary specifications."
   ]
  },
  {
   "cell_type": "code",
   "execution_count": 9,
   "metadata": {},
   "outputs": [],
   "source": [
    "def validate_data(df, data_dict):\n",
    "    \"\"\"Validate dataframe against data dictionary\"\"\"\n",
    "    validation_results = []\n",
    "    \n",
    "    for var_info in data_dict:\n",
    "        var_name = var_info['variable_name']\n",
    "        \n",
    "        # Check if required variable exists\n",
    "        if var_info.get('required', False) and var_name not in df.columns:\n",
    "            validation_results.append(f\"❌ Required variable '{var_name}' is missing\")\n",
    "            continue\n",
    "            \n",
    "        if var_name in df.columns:\n",
    "            # Check value ranges for numeric variables\n",
    "            if 'min_value' in var_info:\n",
    "                valid_data = df[var_name].apply(lambda x: x in var_info.get('missing_values', []) or x >= var_info['min_value'])\n",
    "                if not valid_data.all():\n",
    "                    validation_results.append(f\"⚠️  Variable '{var_name}' has values below minimum ({var_info['min_value']})\")\n",
    "            \n",
    "            # Check categorical levels\n",
    "            if var_info['type'] == 'categorical' and 'levels' in var_info:\n",
    "                valid_levels = set(var_info['levels'].keys())\n",
    "                actual_levels = set(df[var_name].unique())\n",
    "                if not actual_levels.issubset(valid_levels):\n",
    "                    validation_results.append(f\"⚠️  Variable '{var_name}' has invalid levels: {actual_levels - valid_levels}\")\n",
    "            \n",
    "            validation_results.append(f\"✅ Variable '{var_name}' validated successfully\")\n",
    "    \n",
    "    return validation_results"
   ]
  },
  {
   "cell_type": "markdown",
   "metadata": {},
   "source": [
    "Run the validation on our sample data."
   ]
  },
  {
   "cell_type": "code",
   "execution_count": 10,
   "metadata": {},
   "outputs": [
    {
     "name": "stdout",
     "output_type": "stream",
     "text": [
      "✅ Variable 'patient_id' validated successfully\n",
      "✅ Variable 'age' validated successfully\n",
      "✅ Variable 'diagnosis' validated successfully\n",
      "✅ Variable 'mmse_score' validated successfully\n"
     ]
    }
   ],
   "source": [
    "# Validate the sample data\n",
    "results = validate_data(sample_data, data_dictionary)\n",
    "for result in results:\n",
    "    print(result)"
   ]
  },
  {
   "cell_type": "markdown",
   "metadata": {},
   "source": [
    "## Creating a Complete Metadata Package\n",
    "\n",
    "Let's create a comprehensive metadata package that includes both sidecar metadata and data dictionary information."
   ]
  },
  {
   "cell_type": "code",
   "execution_count": 11,
   "metadata": {},
   "outputs": [
    {
     "name": "stdout",
     "output_type": "stream",
     "text": [
      "Complete metadata package created successfully!\n"
     ]
    }
   ],
   "source": [
    "# Create a complete metadata package\n",
    "metadata_package = {\n",
    "    \"dataset_description\": {\n",
    "        \"Name\": \"Alzheimer's Disease Neuroimaging Study\",\n",
    "        \"BIDSVersion\": \"1.6.0\",\n",
    "        \"License\": \"CC BY 4.0\",\n",
    "        \"Authors\": [\"Dr. Smith\", \"Dr. Johnson\"],\n",
    "        \"Acknowledgements\": \"Funded by NIH Grant #12345\",\n",
    "        \"HowToAcknowledge\": \"Please cite our paper: Smith et al. (2023)\",\n",
    "        \"ReferencesAndLinks\": [\"https://doi.org/10.1234/example\"]\n",
    "    },\n",
    "    \"imaging_parameters\": mri_metadata,\n",
    "    \"participant_variables\": data_dictionary\n",
    "}\n",
    "\n",
    "# Save the complete package\n",
    "with open('dataset_metadata.json', 'w') as f:\n",
    "    json.dump(metadata_package, f, indent=2)\n",
    "\n",
    "print(\"Complete metadata package created successfully!\")"
   ]
  },
  {
   "cell_type": "markdown",
   "metadata": {},
   "source": [
    "Display a summary of the metadata package structure."
   ]
  },
  {
   "cell_type": "code",
   "execution_count": 12,
   "metadata": {},
   "outputs": [
    {
     "name": "stdout",
     "output_type": "stream",
     "text": [
      "Metadata Package Structure:\n",
      "--------------------------------------------------\n",
      "📁 dataset_description\n",
      "   └── Name\n",
      "   └── BIDSVersion\n",
      "   └── License\n",
      "   └── Authors\n",
      "   └── Acknowledgements\n",
      "   └── HowToAcknowledge\n",
      "   └── ReferencesAndLinks\n",
      "📁 imaging_parameters\n",
      "   └── Modality\n",
      "   └── MagneticFieldStrength\n",
      "   └── Manufacturer\n",
      "   └── ManufacturersModelName\n",
      "   └── InstitutionName\n",
      "   └── SequenceName\n",
      "   └── SliceThickness\n",
      "   └── RepetitionTime\n",
      "   └── EchoTime\n",
      "   └── FlipAngle\n",
      "📁 participant_variables\n",
      "   └── 4 items\n"
     ]
    }
   ],
   "source": [
    "# Display package structure\n",
    "print(\"Metadata Package Structure:\")\n",
    "print(\"-\" * 50)\n",
    "for key in metadata_package.keys():\n",
    "    print(f\"📁 {key}\")\n",
    "    if isinstance(metadata_package[key], dict):\n",
    "        for subkey in metadata_package[key].keys():\n",
    "            print(f\"   └── {subkey}\")\n",
    "    elif isinstance(metadata_package[key], list):\n",
    "        print(f\"   └── {len(metadata_package[key])} items\")"
   ]
  },
  {
   "cell_type": "markdown",
   "metadata": {},
   "source": [
    "## Exercise\n",
    "\n",
    "Create a sidecar metadata file and data dictionary for a hypothetical COVID-19 patient monitoring dataset that includes:\n",
    "\n",
    "1. **Sidecar metadata** (save as both JSON and YAML):\n",
    "   - Study name: \"COVID-19 Longitudinal Monitoring\"\n",
    "   - Data collection period: \"2020-03-01 to 2021-12-31\"\n",
    "   - Institution: Your choice\n",
    "   - Ethics approval number: \"ETH-2020-001\"\n",
    "\n",
    "2. **Data dictionary** with at least 5 variables including:\n",
    "   - Patient ID (string, required)\n",
    "   - Temperature (numeric, range 35-42°C)\n",
    "   - Oxygen saturation (numeric, range 0-100%)\n",
    "   - COVID test result (categorical: positive/negative/pending)\n",
    "   - At least one more clinical variable of your choice\n",
    "\n",
    "3. Create sample data for 5 patients and validate it against your data dictionary\n",
    "\n",
    "4. Combine everything into a single metadata package and save it as 'covid_metadata_package.json'\n",
    "\n",
    "Bonus: Create a function that automatically generates a human-readable report from your metadata package."
   ]
  }
 ],
 "metadata": {
  "kernelspec": {
   "display_name": "Python 3 (ipykernel)",
   "language": "python",
   "name": "python3"
  },
  "language_info": {
   "codemirror_mode": {
    "name": "ipython",
    "version": 3
   },
   "file_extension": ".py",
   "mimetype": "text/x-python",
   "name": "python",
   "nbconvert_exporter": "python",
   "pygments_lexer": "ipython3",
   "version": "3.11.13"
  }
 },
 "nbformat": 4,
 "nbformat_minor": 4
}
