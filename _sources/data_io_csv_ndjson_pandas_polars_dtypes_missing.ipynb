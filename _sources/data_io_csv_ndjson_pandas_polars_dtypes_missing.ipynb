{
 "cells": [
  {
   "cell_type": "markdown",
   "metadata": {},
   "source": [
    "# Reading and Writing Medical Data: CSV and NDJSON with Pandas and Polars\n",
    "\n",
    "In medical data integration, we frequently work with structured data in CSV format and semi-structured data in NDJSON (Newline Delimited JSON) format. This notebook covers essential techniques for reading, writing, and handling these formats using both pandas and polars libraries, with special attention to data type control and missing value management."
   ]
  },
  {
   "cell_type": "markdown",
   "metadata": {},
   "source": [
    "## Setup and Imports\n",
    "\n",
    "We'll start by importing the necessary libraries and creating sample medical data to work with."
   ]
  },
  {
   "cell_type": "code",
   "execution_count": 1,
   "metadata": {},
   "outputs": [
    {
     "name": "stdout",
     "output_type": "stream",
     "text": [
      "Pandas version: 2.3.1\n",
      "Polars version: 1.33.1\n"
     ]
    }
   ],
   "source": [
    "import pandas as pd\n",
    "import polars as pl\n",
    "import numpy as np\n",
    "import json\n",
    "from pathlib import Path\n",
    "from datetime import datetime, date\n",
    "\n",
    "print(f\"Pandas version: {pd.__version__}\")\n",
    "print(f\"Polars version: {pl.__version__}\")"
   ]
  },
  {
   "cell_type": "markdown",
   "metadata": {},
   "source": [
    "## Creating Sample Medical Data\n",
    "\n",
    "Let's create a sample dataset representing patient information with various data types commonly found in medical records."
   ]
  },
  {
   "cell_type": "code",
   "execution_count": 2,
   "metadata": {},
   "outputs": [
    {
     "name": "stdout",
     "output_type": "stream",
     "text": [
      "Sample medical dataset:\n",
      "  patient_id   age gender  blood_pressure_systolic  blood_pressure_diastolic  \\\n",
      "0       P001  45.0      M                    120.0                      80.0   \n",
      "1       P002  32.0      F                    130.0                      85.0   \n",
      "2       P003   NaN      F                    140.0                      90.0   \n",
      "3       P004  67.0      M                      NaN                       NaN   \n",
      "4       P005  28.0   None                    110.0                      70.0   \n",
      "\n",
      "  diagnosis_date has_diabetes  medication_count  \n",
      "0     2023-01-15         True                 2  \n",
      "1     2023-02-20        False                 0  \n",
      "2           None        False                 1  \n",
      "3     2023-03-10         True                 5  \n",
      "4     2023-04-05         None                 1  \n"
     ]
    }
   ],
   "source": [
    "# Create sample medical data\n",
    "medical_data = {\n",
    "    'patient_id': ['P001', 'P002', 'P003', 'P004', 'P005'],\n",
    "    'age': [45, 32, None, 67, 28],\n",
    "    'gender': ['M', 'F', 'F', 'M', None],\n",
    "    'blood_pressure_systolic': [120, 130, 140, None, 110],\n",
    "    'blood_pressure_diastolic': [80, 85, 90, None, 70],\n",
    "    'diagnosis_date': ['2023-01-15', '2023-02-20', None, '2023-03-10', '2023-04-05'],\n",
    "    'has_diabetes': [True, False, False, True, None],\n",
    "    'medication_count': [2, 0, 1, 5, 1]\n",
    "}\n",
    "\n",
    "df_sample = pd.DataFrame(medical_data)\n",
    "print(\"Sample medical dataset:\")\n",
    "print(df_sample)"
   ]
  },
  {
   "cell_type": "markdown",
   "metadata": {},
   "source": [
    "## Writing CSV Files with Pandas\n",
    "\n",
    "We'll save our sample data to a CSV file, which is one of the most common formats for medical data exchange."
   ]
  },
  {
   "cell_type": "code",
   "execution_count": 3,
   "metadata": {},
   "outputs": [
    {
     "name": "stdout",
     "output_type": "stream",
     "text": [
      "Data saved to medical_data.csv\n",
      "\n",
      "CSV file contents:\n",
      "patient_id,age,gender,blood_pressure_systolic,blood_pressure_diastolic,diagnosis_date,has_diabetes,medication_count\n",
      "P001,45.0,M,120.0,80.0,2023-01-15,True,2\n",
      "P002,32.0,F,130.0,85.0,2023-02-20,False,0\n",
      "P003,,F,140.0,90.0,,False,1\n",
      "P004,67.0,M,,,2023-03-10,True,5\n",
      "P005,28.0,,110.0,70.0,2023-04-05,,1\n",
      "\n"
     ]
    }
   ],
   "source": [
    "# Write CSV file with pandas\n",
    "csv_file = 'medical_data.csv'\n",
    "df_sample.to_csv(csv_file, index=False)\n",
    "print(f\"Data saved to {csv_file}\")\n",
    "\n",
    "# Check the file contents\n",
    "with open(csv_file, 'r') as f:\n",
    "    print(\"\\nCSV file contents:\")\n",
    "    print(f.read())"
   ]
  },
  {
   "cell_type": "markdown",
   "metadata": {},
   "source": [
    "## Reading CSV Files with Pandas and Data Type Control\n",
    "\n",
    "When reading CSV files, it's crucial to control data types to ensure data integrity, especially for medical data where precision matters."
   ]
  },
  {
   "cell_type": "code",
   "execution_count": 4,
   "metadata": {},
   "outputs": [
    {
     "name": "stdout",
     "output_type": "stream",
     "text": [
      "Data types with automatic inference:\n",
      "patient_id                   object\n",
      "age                         float64\n",
      "gender                       object\n",
      "blood_pressure_systolic     float64\n",
      "blood_pressure_diastolic    float64\n",
      "diagnosis_date               object\n",
      "has_diabetes                 object\n",
      "medication_count              int64\n",
      "dtype: object\n",
      "\n",
      "Data preview:\n",
      "  patient_id   age gender  blood_pressure_systolic  blood_pressure_diastolic  \\\n",
      "0       P001  45.0      M                    120.0                      80.0   \n",
      "1       P002  32.0      F                    130.0                      85.0   \n",
      "2       P003   NaN      F                    140.0                      90.0   \n",
      "3       P004  67.0      M                      NaN                       NaN   \n",
      "4       P005  28.0    NaN                    110.0                      70.0   \n",
      "\n",
      "  diagnosis_date has_diabetes  medication_count  \n",
      "0     2023-01-15         True                 2  \n",
      "1     2023-02-20        False                 0  \n",
      "2            NaN        False                 1  \n",
      "3     2023-03-10         True                 5  \n",
      "4     2023-04-05          NaN                 1  \n"
     ]
    }
   ],
   "source": [
    "# Read CSV with automatic type inference\n",
    "df_auto = pd.read_csv(csv_file)\n",
    "print(\"Data types with automatic inference:\")\n",
    "print(df_auto.dtypes)\n",
    "print(\"\\nData preview:\")\n",
    "print(df_auto.head())"
   ]
  },
  {
   "cell_type": "markdown",
   "metadata": {},
   "source": [
    "Now let's read the same CSV file with explicit data type control to ensure medical data is properly typed."
   ]
  },
  {
   "cell_type": "code",
   "execution_count": 5,
   "metadata": {},
   "outputs": [
    {
     "name": "stdout",
     "output_type": "stream",
     "text": [
      "Data types with explicit control:\n",
      "patient_id                  string[python]\n",
      "age                                  Int64\n",
      "gender                            category\n",
      "blood_pressure_systolic              Int64\n",
      "blood_pressure_diastolic             Int64\n",
      "diagnosis_date              datetime64[ns]\n",
      "has_diabetes                       boolean\n",
      "medication_count                     Int64\n",
      "dtype: object\n"
     ]
    }
   ],
   "source": [
    "# Define explicit data types for medical data\n",
    "dtype_dict = {\n",
    "    'patient_id': 'string',\n",
    "    'age': 'Int64',  # Nullable integer\n",
    "    'gender': 'category',\n",
    "    'blood_pressure_systolic': 'Int64',\n",
    "    'blood_pressure_diastolic': 'Int64',\n",
    "    'has_diabetes': 'boolean',\n",
    "    'medication_count': 'Int64'\n",
    "}\n",
    "\n",
    "df_typed = pd.read_csv(csv_file, dtype=dtype_dict, parse_dates=['diagnosis_date'])\n",
    "print(\"Data types with explicit control:\")\n",
    "print(df_typed.dtypes)"
   ]
  },
  {
   "cell_type": "markdown",
   "metadata": {},
   "source": [
    "## Handling Missing Values in CSV Reading\n",
    "\n",
    "Medical data often contains missing values, and we need to handle them appropriately during data loading."
   ]
  },
  {
   "cell_type": "code",
   "execution_count": 6,
   "metadata": {},
   "outputs": [
    {
     "name": "stdout",
     "output_type": "stream",
     "text": [
      "Missing values count:\n",
      "patient_id                  0\n",
      "age                         1\n",
      "gender                      1\n",
      "blood_pressure_systolic     1\n",
      "blood_pressure_diastolic    1\n",
      "diagnosis_date              1\n",
      "has_diabetes                1\n",
      "medication_count            0\n",
      "dtype: int64\n",
      "\n",
      "Missing values percentage:\n",
      "patient_id                   0.0\n",
      "age                         20.0\n",
      "gender                      20.0\n",
      "blood_pressure_systolic     20.0\n",
      "blood_pressure_diastolic    20.0\n",
      "diagnosis_date              20.0\n",
      "has_diabetes                20.0\n",
      "medication_count             0.0\n",
      "dtype: float64\n"
     ]
    }
   ],
   "source": [
    "# Check for missing values\n",
    "print(\"Missing values count:\")\n",
    "print(df_typed.isnull().sum())\n",
    "print(\"\\nMissing values percentage:\")\n",
    "print((df_typed.isnull().sum() / len(df_typed)) * 100)"
   ]
  },
  {
   "cell_type": "markdown",
   "metadata": {},
   "source": [
    "We can customize how missing values are interpreted during CSV reading by specifying custom NA values."
   ]
  },
  {
   "cell_type": "code",
   "execution_count": 7,
   "metadata": {},
   "outputs": [
    {
     "name": "stdout",
     "output_type": "stream",
     "text": [
      "DataFrame info after custom NA handling:\n",
      "<class 'pandas.core.frame.DataFrame'>\n",
      "RangeIndex: 5 entries, 0 to 4\n",
      "Data columns (total 8 columns):\n",
      " #   Column                    Non-Null Count  Dtype         \n",
      "---  ------                    --------------  -----         \n",
      " 0   patient_id                5 non-null      string        \n",
      " 1   age                       4 non-null      Int64         \n",
      " 2   gender                    4 non-null      category      \n",
      " 3   blood_pressure_systolic   4 non-null      Int64         \n",
      " 4   blood_pressure_diastolic  4 non-null      Int64         \n",
      " 5   diagnosis_date            4 non-null      datetime64[ns]\n",
      " 6   has_diabetes              4 non-null      boolean       \n",
      " 7   medication_count          5 non-null      Int64         \n",
      "dtypes: Int64(4), boolean(1), category(1), datetime64[ns](1), string(1)\n",
      "memory usage: 531.0 bytes\n",
      "None\n"
     ]
    }
   ],
   "source": [
    "# Read CSV with custom missing value indicators\n",
    "df_custom_na = pd.read_csv(\n",
    "    csv_file, \n",
    "    dtype=dtype_dict, \n",
    "    parse_dates=['diagnosis_date'],\n",
    "    na_values=['', 'NA', 'NULL', 'missing', 'unknown', '999', '-1']\n",
    ")\n",
    "print(\"DataFrame info after custom NA handling:\")\n",
    "print(df_custom_na.info())"
   ]
  },
  {
   "cell_type": "markdown",
   "metadata": {},
   "source": [
    "## Working with Polars for CSV Operations\n",
    "\n",
    "Polars offers excellent performance for large medical datasets and has built-in support for proper data type handling."
   ]
  },
  {
   "cell_type": "code",
   "execution_count": 8,
   "metadata": {},
   "outputs": [
    {
     "name": "stdout",
     "output_type": "stream",
     "text": [
      "Polars DataFrame schema:\n",
      "Schema([('patient_id', String), ('age', Float64), ('gender', String), ('blood_pressure_systolic', Float64), ('blood_pressure_diastolic', Float64), ('diagnosis_date', String), ('has_diabetes', Boolean), ('medication_count', Int64)])\n",
      "\n",
      "Polars DataFrame:\n",
      "shape: (5, 8)\n",
      "┌────────────┬──────┬────────┬───────────────────┬──────────────────┬────────────────┬──────────────┬──────────────────┐\n",
      "│ patient_id ┆ age  ┆ gender ┆ blood_pressure_sy ┆ blood_pressure_d ┆ diagnosis_date ┆ has_diabetes ┆ medication_count │\n",
      "│ ---        ┆ ---  ┆ ---    ┆ stolic            ┆ iastolic         ┆ ---            ┆ ---          ┆ ---              │\n",
      "│ str        ┆ f64  ┆ str    ┆ ---               ┆ ---              ┆ str            ┆ bool         ┆ i64              │\n",
      "│            ┆      ┆        ┆ f64               ┆ f64              ┆                ┆              ┆                  │\n",
      "╞════════════╪══════╪════════╪═══════════════════╪══════════════════╪════════════════╪══════════════╪══════════════════╡\n",
      "│ P001       ┆ 45.0 ┆ M      ┆ 120.0             ┆ 80.0             ┆ 2023-01-15     ┆ true         ┆ 2                │\n",
      "│ P002       ┆ 32.0 ┆ F      ┆ 130.0             ┆ 85.0             ┆ 2023-02-20     ┆ false        ┆ 0                │\n",
      "│ P003       ┆ null ┆ F      ┆ 140.0             ┆ 90.0             ┆ null           ┆ false        ┆ 1                │\n",
      "│ P004       ┆ 67.0 ┆ M      ┆ null              ┆ null             ┆ 2023-03-10     ┆ true         ┆ 5                │\n",
      "│ P005       ┆ 28.0 ┆ null   ┆ 110.0             ┆ 70.0             ┆ 2023-04-05     ┆ null         ┆ 1                │\n",
      "└────────────┴──────┴────────┴───────────────────┴──────────────────┴────────────────┴──────────────┴──────────────────┘\n"
     ]
    }
   ],
   "source": [
    "# Read CSV with Polars\n",
    "df_polars = pl.read_csv(csv_file)\n",
    "print(\"Polars DataFrame schema:\")\n",
    "print(df_polars.schema)\n",
    "print(\"\\nPolars DataFrame:\")\n",
    "print(df_polars)"
   ]
  },
  {
   "cell_type": "markdown",
   "metadata": {},
   "source": [
    "Let's read the CSV with explicit schema definition in Polars to ensure proper medical data typing."
   ]
  },
  {
   "cell_type": "code",
   "execution_count": 9,
   "metadata": {},
   "outputs": [
    {
     "name": "stdout",
     "output_type": "stream",
     "text": [
      "Polars DataFrame with explicit schema:\n",
      "shape: (5, 8)\n",
      "┌────────────┬──────┬────────┬───────────────────┬──────────────────┬────────────────┬──────────────┬──────────────────┐\n",
      "│ patient_id ┆ age  ┆ gender ┆ blood_pressure_sy ┆ blood_pressure_d ┆ diagnosis_date ┆ has_diabetes ┆ medication_count │\n",
      "│ ---        ┆ ---  ┆ ---    ┆ stolic            ┆ iastolic         ┆ ---            ┆ ---          ┆ ---              │\n",
      "│ str        ┆ f64  ┆ cat    ┆ ---               ┆ ---              ┆ date           ┆ bool         ┆ f64              │\n",
      "│            ┆      ┆        ┆ f64               ┆ f64              ┆                ┆              ┆                  │\n",
      "╞════════════╪══════╪════════╪═══════════════════╪══════════════════╪════════════════╪══════════════╪══════════════════╡\n",
      "│ P001       ┆ 45.0 ┆ M      ┆ 120.0             ┆ 80.0             ┆ 2023-01-15     ┆ true         ┆ 2.0              │\n",
      "│ P002       ┆ 32.0 ┆ F      ┆ 130.0             ┆ 85.0             ┆ 2023-02-20     ┆ false        ┆ 0.0              │\n",
      "│ P003       ┆ null ┆ F      ┆ 140.0             ┆ 90.0             ┆ null           ┆ false        ┆ 1.0              │\n",
      "│ P004       ┆ 67.0 ┆ M      ┆ null              ┆ null             ┆ 2023-03-10     ┆ true         ┆ 5.0              │\n",
      "│ P005       ┆ 28.0 ┆ null   ┆ 110.0             ┆ 70.0             ┆ 2023-04-05     ┆ null         ┆ 1.0              │\n",
      "└────────────┴──────┴────────┴───────────────────┴──────────────────┴────────────────┴──────────────┴──────────────────┘\n"
     ]
    }
   ],
   "source": [
    "# Define schema for Polars\n",
    "polars_schema = {\n",
    "    'patient_id': pl.Utf8,\n",
    "    'age': pl.Float64,\n",
    "    'gender': pl.Categorical,\n",
    "    'blood_pressure_systolic': pl.Float64,\n",
    "    'blood_pressure_diastolic': pl.Float64,\n",
    "    'diagnosis_date': pl.Date,\n",
    "    'has_diabetes': pl.Boolean,\n",
    "    'medication_count': pl.Float64\n",
    "}\n",
    "\n",
    "df_polars_typed = pl.read_csv(csv_file, schema=polars_schema, try_parse_dates=True)\n",
    "print(\"Polars DataFrame with explicit schema:\")\n",
    "print(df_polars_typed)"
   ]
  },
  {
   "cell_type": "markdown",
   "metadata": {},
   "source": [
    "## Creating and Writing NDJSON Data\n",
    "\n",
    "NDJSON (Newline Delimited JSON) is commonly used for streaming medical data or when dealing with nested patient records."
   ]
  },
  {
   "cell_type": "code",
   "execution_count": 10,
   "metadata": {},
   "outputs": [
    {
     "name": "stdout",
     "output_type": "stream",
     "text": [
      "NDJSON data written to medical_records.ndjson\n"
     ]
    }
   ],
   "source": [
    "# Create sample NDJSON medical data with nested structure\n",
    "medical_records = [\n",
    "    {\n",
    "        \"patient_id\": \"P001\",\n",
    "        \"demographics\": {\"age\": 45, \"gender\": \"M\"},\n",
    "        \"vitals\": {\"bp_sys\": 120, \"bp_dia\": 80},\n",
    "        \"conditions\": [\"diabetes\", \"hypertension\"],\n",
    "        \"last_visit\": \"2023-01-15\"\n",
    "    },\n",
    "    {\n",
    "        \"patient_id\": \"P002\",\n",
    "        \"demographics\": {\"age\": 32, \"gender\": \"F\"},\n",
    "        \"vitals\": {\"bp_sys\": 130, \"bp_dia\": 85},\n",
    "        \"conditions\": [],\n",
    "        \"last_visit\": \"2023-02-20\"\n",
    "    },\n",
    "    {\n",
    "        \"patient_id\": \"P003\",\n",
    "        \"demographics\": {\"age\": None, \"gender\": \"F\"},\n",
    "        \"vitals\": {\"bp_sys\": 140, \"bp_dia\": 90},\n",
    "        \"conditions\": [\"anxiety\"],\n",
    "        \"last_visit\": None\n",
    "    }\n",
    "]\n",
    "\n",
    "# Write NDJSON file\n",
    "ndjson_file = 'medical_records.ndjson'\n",
    "with open(ndjson_file, 'w') as f:\n",
    "    for record in medical_records:\n",
    "        f.write(json.dumps(record) + '\\n')\n",
    "\n",
    "print(f\"NDJSON data written to {ndjson_file}\")"
   ]
  },
  {
   "cell_type": "markdown",
   "metadata": {},
   "source": [
    "## Reading NDJSON with Pandas\n",
    "\n",
    "We'll read the NDJSON file and handle the nested structure appropriately for analysis."
   ]
  },
  {
   "cell_type": "code",
   "execution_count": 11,
   "metadata": {},
   "outputs": [
    {
     "name": "stdout",
     "output_type": "stream",
     "text": [
      "NDJSON data loaded with pandas:\n",
      "  patient_id                conditions  last_visit  demographics.age  \\\n",
      "0       P001  [diabetes, hypertension]  2023-01-15              45.0   \n",
      "1       P002                        []  2023-02-20              32.0   \n",
      "2       P003                 [anxiety]        None               NaN   \n",
      "\n",
      "  demographics.gender  vitals.bp_sys  vitals.bp_dia  \n",
      "0                   M            120             80  \n",
      "1                   F            130             85  \n",
      "2                   F            140             90  \n",
      "\n",
      "Column names:\n",
      "['patient_id', 'conditions', 'last_visit', 'demographics.age', 'demographics.gender', 'vitals.bp_sys', 'vitals.bp_dia']\n"
     ]
    }
   ],
   "source": [
    "# Read NDJSON file with pandas\n",
    "records = []\n",
    "with open(ndjson_file, 'r') as f:\n",
    "    for line in f:\n",
    "        records.append(json.loads(line.strip()))\n",
    "\n",
    "df_ndjson = pd.json_normalize(records)\n",
    "print(\"NDJSON data loaded with pandas:\")\n",
    "print(df_ndjson)\n",
    "print(\"\\nColumn names:\")\n",
    "print(df_ndjson.columns.tolist())"
   ]
  },
  {
   "cell_type": "markdown",
   "metadata": {},
   "source": [
    "## Reading NDJSON with Polars\n",
    "\n",
    "Polars provides native support for NDJSON files, making it easy to work with semi-structured medical data."
   ]
  },
  {
   "cell_type": "code",
   "execution_count": 12,
   "metadata": {},
   "outputs": [
    {
     "name": "stdout",
     "output_type": "stream",
     "text": [
      "NDJSON data loaded with Polars:\n",
      "shape: (3, 5)\n",
      "┌────────────┬──────────────┬───────────┬──────────────────────────────┬────────────┐\n",
      "│ patient_id ┆ demographics ┆ vitals    ┆ conditions                   ┆ last_visit │\n",
      "│ ---        ┆ ---          ┆ ---       ┆ ---                          ┆ ---        │\n",
      "│ str        ┆ struct[2]    ┆ struct[2] ┆ list[str]                    ┆ str        │\n",
      "╞════════════╪══════════════╪═══════════╪══════════════════════════════╪════════════╡\n",
      "│ P001       ┆ {45,\"M\"}     ┆ {120,80}  ┆ [\"diabetes\", \"hypertension\"] ┆ 2023-01-15 │\n",
      "│ P002       ┆ {32,\"F\"}     ┆ {130,85}  ┆ []                           ┆ 2023-02-20 │\n",
      "│ P003       ┆ {null,\"F\"}   ┆ {140,90}  ┆ [\"anxiety\"]                  ┆ null       │\n",
      "└────────────┴──────────────┴───────────┴──────────────────────────────┴────────────┘\n",
      "\n",
      "Schema:\n",
      "Schema([('patient_id', String), ('demographics', Struct({'age': Int64, 'gender': String})), ('vitals', Struct({'bp_sys': Int64, 'bp_dia': Int64})), ('conditions', List(String)), ('last_visit', String)])\n"
     ]
    }
   ],
   "source": [
    "# Read NDJSON with Polars\n",
    "df_polars_ndjson = pl.read_ndjson(ndjson_file)\n",
    "print(\"NDJSON data loaded with Polars:\")\n",
    "print(df_polars_ndjson)\n",
    "print(\"\\nSchema:\")\n",
    "print(df_polars_ndjson.schema)"
   ]
  },
  {
   "cell_type": "markdown",
   "metadata": {},
   "source": [
    "## Handling Missing Values in NDJSON Data\n",
    "\n",
    "Let's examine how missing values are handled in the NDJSON data and apply appropriate strategies."
   ]
  },
  {
   "cell_type": "code",
   "execution_count": 13,
   "metadata": {},
   "outputs": [
    {
     "name": "stdout",
     "output_type": "stream",
     "text": [
      "Missing values in pandas NDJSON data:\n",
      "patient_id             0\n",
      "conditions             0\n",
      "last_visit             1\n",
      "demographics.age       1\n",
      "demographics.gender    0\n",
      "vitals.bp_sys          0\n",
      "vitals.bp_dia          0\n",
      "dtype: int64\n",
      "\n",
      "Null values in Polars NDJSON data:\n",
      "shape: (1, 5)\n",
      "┌────────────┬──────────────┬────────┬────────────┬────────────┐\n",
      "│ patient_id ┆ demographics ┆ vitals ┆ conditions ┆ last_visit │\n",
      "│ ---        ┆ ---          ┆ ---    ┆ ---        ┆ ---        │\n",
      "│ u32        ┆ u32          ┆ u32    ┆ u32        ┆ u32        │\n",
      "╞════════════╪══════════════╪════════╪════════════╪════════════╡\n",
      "│ 0          ┆ 0            ┆ 0      ┆ 0          ┆ 1          │\n",
      "└────────────┴──────────────┴────────┴────────────┴────────────┘\n"
     ]
    }
   ],
   "source": [
    "# Check missing values in pandas NDJSON data\n",
    "print(\"Missing values in pandas NDJSON data:\")\n",
    "print(df_ndjson.isnull().sum())\n",
    "\n",
    "# Check null values in Polars NDJSON data\n",
    "print(\"\\nNull values in Polars NDJSON data:\")\n",
    "print(df_polars_ndjson.null_count())"
   ]
  },
  {
   "cell_type": "markdown",
   "metadata": {},
   "source": [
    "## Writing Data Back to Files\n",
    "\n",
    "Finally, let's demonstrate how to write the processed data back to both CSV and NDJSON formats."
   ]
  },
  {
   "cell_type": "code",
   "execution_count": 14,
   "metadata": {},
   "outputs": [
    {
     "name": "stdout",
     "output_type": "stream",
     "text": [
      "Files written successfully:\n",
      "- processed_medical_data.csv (pandas)\n",
      "- polars_medical_data.csv (polars)\n",
      "- processed_medical_records.ndjson (polars)\n"
     ]
    }
   ],
   "source": [
    "# Write processed data to CSV with pandas\n",
    "df_ndjson.to_csv('processed_medical_data.csv', index=False)\n",
    "\n",
    "# Write data to CSV with Polars\n",
    "df_polars_typed.write_csv('polars_medical_data.csv')\n",
    "\n",
    "# Write back to NDJSON with Polars\n",
    "df_polars_ndjson.write_ndjson('processed_medical_records.ndjson')\n",
    "\n",
    "print(\"Files written successfully:\")\n",
    "print(\"- processed_medical_data.csv (pandas)\")\n",
    "print(\"- polars_medical_data.csv (polars)\")\n",
    "print(\"- processed_medical_records.ndjson (polars)\")"
   ]
  },
  {
   "cell_type": "markdown",
   "metadata": {},
   "source": [
    "## Performance Comparison\n",
    "\n",
    "Let's create a larger dataset to compare the performance of pandas vs polars for medical data operations."
   ]
  },
  {
   "cell_type": "code",
   "execution_count": 15,
   "metadata": {},
   "outputs": [
    {
     "name": "stdout",
     "output_type": "stream",
     "text": [
      "Created dataset with 10,000 patients\n"
     ]
    }
   ],
   "source": [
    "import time\n",
    "\n",
    "# Create larger dataset for performance testing\n",
    "n_patients = 10000\n",
    "large_data = {\n",
    "    'patient_id': [f'P{i:06d}' for i in range(n_patients)],\n",
    "    'age': np.random.randint(18, 90, n_patients),\n",
    "    'gender': np.random.choice(['M', 'F'], n_patients),\n",
    "    'blood_pressure_systolic': np.random.randint(90, 180, n_patients),\n",
    "    'blood_pressure_diastolic': np.random.randint(60, 120, n_patients),\n",
    "    'has_diabetes': np.random.choice([True, False], n_patients),\n",
    "    'medication_count': np.random.randint(0, 10, n_patients)\n",
    "}\n",
    "\n",
    "large_df = pd.DataFrame(large_data)\n",
    "large_df.to_csv('large_medical_data.csv', index=False)\n",
    "print(f\"Created dataset with {n_patients:,} patients\")"
   ]
  },
  {
   "cell_type": "markdown",
   "metadata": {},
   "source": [
    "Now let's compare the read performance between pandas and polars for this larger medical dataset."
   ]
  },
  {
   "cell_type": "code",
   "execution_count": 16,
   "metadata": {},
   "outputs": [
    {
     "name": "stdout",
     "output_type": "stream",
     "text": [
      "Pandas read time: 0.0875 seconds\n",
      "Polars read time: 0.0020 seconds\n",
      "Speedup: 43.69x\n"
     ]
    }
   ],
   "source": [
    "# Time pandas read\n",
    "start_time = time.time()\n",
    "df_pandas_large = pd.read_csv('large_medical_data.csv')\n",
    "pandas_time = time.time() - start_time\n",
    "\n",
    "# Time polars read\n",
    "start_time = time.time()\n",
    "df_polars_large = pl.read_csv('large_medical_data.csv')\n",
    "polars_time = time.time() - start_time\n",
    "\n",
    "print(f\"Pandas read time: {pandas_time:.4f} seconds\")\n",
    "print(f\"Polars read time: {polars_time:.4f} seconds\")\n",
    "print(f\"Speedup: {pandas_time/polars_time:.2f}x\")"
   ]
  },
  {
   "cell_type": "markdown",
   "metadata": {},
   "source": [
    "## Summary\n",
    "\n",
    "In this notebook, we've covered essential techniques for reading and writing medical data in CSV and NDJSON formats using both pandas and polars. Key takeaways include:\n",
    "\n",
    "1. **Data Type Control**: Always specify explicit data types when reading medical data to ensure data integrity\n",
    "2. **Missing Value Handling**: Use appropriate nullable data types and custom NA value specifications\n",
    "3. **Format Choice**: CSV for tabular data, NDJSON for semi-structured or nested medical records\n",
    "4. **Performance**: Polars often provides better performance for large datasets\n",
    "5. **Schema Definition**: Define schemas upfront to catch data quality issues early"
   ]
  },
  {
   "cell_type": "markdown",
   "metadata": {},
   "source": [
    "## Exercise\n",
    "\n",
    "Create a medical dataset with the following requirements:\n",
    "\n",
    "1. Generate a CSV file containing 1,000 patient records with columns: `patient_id`, `age`, `gender`, `height_cm`, `weight_kg`, `diagnosis_code`, `admission_date`, `discharge_date`, `treatment_cost`\n",
    "2. Introduce missing values in 10% of the records across different columns\n",
    "3. Read the CSV file using both pandas and polars with appropriate data types:\n",
    "   - Use categorical type for gender\n",
    "   - Use nullable integers for height and weight\n",
    "   - Parse dates correctly\n",
    "   - Use string type for diagnosis codes\n",
    "4. Create an NDJSON version of the same data with nested structure (group demographic info and medical info)\n",
    "5. Compare the file sizes and read performance between CSV and NDJSON formats\n",
    "6. Calculate summary statistics for missing values and identify patterns\n",
    "\n",
    "Bonus: Implement data validation to ensure age is between 0-120, weight and height are positive, and discharge_date is after admission_date."
   ]
  },
  {
   "cell_type": "code",
   "execution_count": null,
   "metadata": {},
   "outputs": [],
   "source": []
  }
 ],
 "metadata": {
  "kernelspec": {
   "display_name": "Python 3 (ipykernel)",
   "language": "python",
   "name": "python3"
  },
  "language_info": {
   "codemirror_mode": {
    "name": "ipython",
    "version": 3
   },
   "file_extension": ".py",
   "mimetype": "text/x-python",
   "name": "python",
   "nbconvert_exporter": "python",
   "pygments_lexer": "ipython3",
   "version": "3.11.13"
  }
 },
 "nbformat": 4,
 "nbformat_minor": 4
}
