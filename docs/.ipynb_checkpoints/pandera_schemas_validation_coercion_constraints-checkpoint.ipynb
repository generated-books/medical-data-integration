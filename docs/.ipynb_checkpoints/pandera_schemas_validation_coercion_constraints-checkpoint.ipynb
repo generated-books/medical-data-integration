{
 "cells": [
  {
   "cell_type": "markdown",
   "metadata": {},
   "source": [
    "# Schemas and Validation with Pandera\n",
    "\n",
    "In medical data integration, ensuring data quality and consistency is critical for patient safety and regulatory compliance. Pandera is a powerful Python library that provides statistical data testing and schema validation for pandas DataFrames. This notebook will demonstrate how to define schemas, validate data, apply coercion, and set constraints for medical datasets."
   ]
  },
  {
   "cell_type": "markdown",
   "metadata": {},
   "source": [
    "First, let's import the necessary libraries and create a sample medical dataset that we'll use throughout this notebook."
   ]
  },
  {
   "cell_type": "code",
   "execution_count": 1,
   "metadata": {},
   "outputs": [
    {
     "name": "stdout",
     "output_type": "stream",
     "text": [
      "patient_id         object\n",
      "age                 int64\n",
      "systolic_bp         int64\n",
      "diastolic_bp        int64\n",
      "heart_rate          int64\n",
      "temperature       float64\n",
      "admission_date     object\n",
      "diagnosis_code     object\n",
      "dtype: object\n"
     ]
    },
    {
     "data": {
      "text/html": [
       "<div>\n",
       "<style scoped>\n",
       "    .dataframe tbody tr th:only-of-type {\n",
       "        vertical-align: middle;\n",
       "    }\n",
       "\n",
       "    .dataframe tbody tr th {\n",
       "        vertical-align: top;\n",
       "    }\n",
       "\n",
       "    .dataframe thead th {\n",
       "        text-align: right;\n",
       "    }\n",
       "</style>\n",
       "<table border=\"1\" class=\"dataframe\">\n",
       "  <thead>\n",
       "    <tr style=\"text-align: right;\">\n",
       "      <th></th>\n",
       "      <th>patient_id</th>\n",
       "      <th>age</th>\n",
       "      <th>systolic_bp</th>\n",
       "      <th>diastolic_bp</th>\n",
       "      <th>heart_rate</th>\n",
       "      <th>temperature</th>\n",
       "      <th>admission_date</th>\n",
       "      <th>diagnosis_code</th>\n",
       "    </tr>\n",
       "  </thead>\n",
       "  <tbody>\n",
       "    <tr>\n",
       "      <th>0</th>\n",
       "      <td>P001</td>\n",
       "      <td>45</td>\n",
       "      <td>120</td>\n",
       "      <td>80</td>\n",
       "      <td>72</td>\n",
       "      <td>36.5</td>\n",
       "      <td>2024-01-15</td>\n",
       "      <td>I10</td>\n",
       "    </tr>\n",
       "    <tr>\n",
       "      <th>1</th>\n",
       "      <td>P002</td>\n",
       "      <td>67</td>\n",
       "      <td>140</td>\n",
       "      <td>90</td>\n",
       "      <td>68</td>\n",
       "      <td>37.2</td>\n",
       "      <td>2024-01-16</td>\n",
       "      <td>E11.9</td>\n",
       "    </tr>\n",
       "    <tr>\n",
       "      <th>2</th>\n",
       "      <td>P003</td>\n",
       "      <td>23</td>\n",
       "      <td>110</td>\n",
       "      <td>70</td>\n",
       "      <td>85</td>\n",
       "      <td>36.8</td>\n",
       "      <td>2024-01-17</td>\n",
       "      <td>J44.1</td>\n",
       "    </tr>\n",
       "    <tr>\n",
       "      <th>3</th>\n",
       "      <td>P004</td>\n",
       "      <td>89</td>\n",
       "      <td>160</td>\n",
       "      <td>95</td>\n",
       "      <td>62</td>\n",
       "      <td>38.1</td>\n",
       "      <td>2024-01-18</td>\n",
       "      <td>N18.6</td>\n",
       "    </tr>\n",
       "    <tr>\n",
       "      <th>4</th>\n",
       "      <td>P005</td>\n",
       "      <td>34</td>\n",
       "      <td>115</td>\n",
       "      <td>75</td>\n",
       "      <td>78</td>\n",
       "      <td>36.7</td>\n",
       "      <td>2024-01-19</td>\n",
       "      <td>M79.3</td>\n",
       "    </tr>\n",
       "  </tbody>\n",
       "</table>\n",
       "</div>"
      ],
      "text/plain": [
       "  patient_id  age  systolic_bp  diastolic_bp  heart_rate  temperature  \\\n",
       "0       P001   45          120            80          72         36.5   \n",
       "1       P002   67          140            90          68         37.2   \n",
       "2       P003   23          110            70          85         36.8   \n",
       "3       P004   89          160            95          62         38.1   \n",
       "4       P005   34          115            75          78         36.7   \n",
       "\n",
       "  admission_date diagnosis_code  \n",
       "0     2024-01-15            I10  \n",
       "1     2024-01-16          E11.9  \n",
       "2     2024-01-17          J44.1  \n",
       "3     2024-01-18          N18.6  \n",
       "4     2024-01-19          M79.3  "
      ]
     },
     "execution_count": 1,
     "metadata": {},
     "output_type": "execute_result"
    }
   ],
   "source": [
    "import pandas as pd\n",
    "import pandera.pandas as pa\n",
    "from pandera import Column, DataFrameSchema, Check\n",
    "import numpy as np\n",
    "from datetime import datetime\n",
    "\n",
    "# Create sample medical data\n",
    "medical_data = pd.DataFrame({\n",
    "    'patient_id': ['P001', 'P002', 'P003', 'P004', 'P005'],\n",
    "    'age': [45, 67, 23, 89, 34],\n",
    "    'systolic_bp': [120, 140, 110, 160, 115],\n",
    "    'diastolic_bp': [80, 90, 70, 95, 75],\n",
    "    'heart_rate': [72, 68, 85, 62, 78],\n",
    "    'temperature': [36.5, 37.2, 36.8, 38.1, 36.7],\n",
    "    'admission_date': ['2024-01-15', '2024-01-16', '2024-01-17', '2024-01-18', '2024-01-19'],\n",
    "    'diagnosis_code': ['I10', 'E11.9', 'J44.1', 'N18.6', 'M79.3']\n",
    "})\n",
    "\n",
    "print(medical_data.dtypes)\n",
    "medical_data.head()"
   ]
  },
  {
   "cell_type": "markdown",
   "metadata": {},
   "source": [
    "Now let's define a basic schema for our medical data using Pandera. This schema will specify the expected data types for each column."
   ]
  },
  {
   "cell_type": "code",
   "execution_count": 2,
   "metadata": {},
   "outputs": [
    {
     "name": "stdout",
     "output_type": "stream",
     "text": [
      "Basic schema defined successfully\n",
      "<Schema DataFrameSchema(\n",
      "    columns={\n",
      "        'patient_id': <Schema Column(name=patient_id, type=DataType(str))>\n",
      "        'age': <Schema Column(name=age, type=DataType(int64))>\n",
      "        'systolic_bp': <Schema Column(name=systolic_bp, type=DataType(int64))>\n",
      "        'diastolic_bp': <Schema Column(name=diastolic_bp, type=DataType(int64))>\n",
      "        'heart_rate': <Schema Column(name=heart_rate, type=DataType(int64))>\n",
      "        'temperature': <Schema Column(name=temperature, type=DataType(float64))>\n",
      "        'admission_date': <Schema Column(name=admission_date, type=DataType(str))>\n",
      "        'diagnosis_code': <Schema Column(name=diagnosis_code, type=DataType(str))>\n",
      "    },\n",
      "    checks=[],\n",
      "    parsers=[],\n",
      "    coerce=False,\n",
      "    dtype=None,\n",
      "    index=None,\n",
      "    strict=False,\n",
      "    name=None,\n",
      "    ordered=False,\n",
      "    unique_column_names=False,\n",
      "    metadata=None, \n",
      "    add_missing_columns=False\n",
      ")>\n"
     ]
    },
    {
     "name": "stderr",
     "output_type": "stream",
     "text": [
      "C:\\Users\\rober\\miniforge3\\envs\\bob-env\\Lib\\site-packages\\pandera\\_pandas_deprecated.py:149: FutureWarning: Importing pandas-specific classes and functions from the\n",
      "top-level pandera module will be **removed in a future version of pandera**.\n",
      "If you're using pandera to validate pandas objects, we highly recommend updating\n",
      "your import:\n",
      "\n",
      "```\n",
      "# old import\n",
      "import pandera as pa\n",
      "\n",
      "# new import\n",
      "import pandera.pandas as pa\n",
      "```\n",
      "\n",
      "If you're using pandera to validate objects from other compatible libraries\n",
      "like pyspark or polars, see the supported libraries section of the documentation\n",
      "for more information on how to import pandera:\n",
      "\n",
      "https://pandera.readthedocs.io/en/stable/supported_libraries.html\n",
      "\n",
      "To disable this warning, set the environment variable:\n",
      "\n",
      "```\n",
      "export DISABLE_PANDERA_IMPORT_WARNING=True\n",
      "```\n",
      "\n",
      "  warnings.warn(_future_warning, FutureWarning)\n"
     ]
    }
   ],
   "source": [
    "# Define a basic schema\n",
    "basic_schema = DataFrameSchema({\n",
    "    'patient_id': Column(str),\n",
    "    'age': Column(int),\n",
    "    'systolic_bp': Column(int),\n",
    "    'diastolic_bp': Column(int),\n",
    "    'heart_rate': Column(int),\n",
    "    'temperature': Column(float),\n",
    "    'admission_date': Column(str),\n",
    "    'diagnosis_code': Column(str)\n",
    "})\n",
    "\n",
    "print(\"Basic schema defined successfully\")\n",
    "print(basic_schema)"
   ]
  },
  {
   "cell_type": "markdown",
   "metadata": {},
   "source": [
    "Let's validate our medical data against the basic schema to ensure it conforms to the expected structure."
   ]
  },
  {
   "cell_type": "code",
   "execution_count": 3,
   "metadata": {},
   "outputs": [
    {
     "name": "stdout",
     "output_type": "stream",
     "text": [
      "Data validation successful!\n",
      "Validated 5 rows\n"
     ]
    }
   ],
   "source": [
    "# Validate the data against the schema\n",
    "try:\n",
    "    validated_data = basic_schema.validate(medical_data)\n",
    "    print(\"Data validation successful!\")\n",
    "    print(f\"Validated {len(validated_data)} rows\")\n",
    "except pa.errors.SchemaError as e:\n",
    "    print(f\"Validation error: {e}\")"
   ]
  },
  {
   "cell_type": "markdown",
   "metadata": {},
   "source": [
    "Now let's enhance our schema with medical constraints to ensure data quality. We'll add range checks for vital signs and other medical parameters."
   ]
  },
  {
   "cell_type": "code",
   "execution_count": 4,
   "metadata": {},
   "outputs": [
    {
     "name": "stdout",
     "output_type": "stream",
     "text": [
      "Enhanced medical schema with constraints defined\n"
     ]
    }
   ],
   "source": [
    "# Define schema with medical constraints\n",
    "medical_schema = DataFrameSchema({\n",
    "    'patient_id': Column(str, checks=[\n",
    "        Check.str_matches(r'^P\\d{3}$')  # Pattern: P followed by 3 digits\n",
    "    ]),\n",
    "    'age': Column(int, checks=[\n",
    "        Check.greater_than_or_equal_to(0),\n",
    "        Check.less_than_or_equal_to(120)\n",
    "    ]),\n",
    "    'systolic_bp': Column(int, checks=[\n",
    "        Check.in_range(70, 250)  # Reasonable range for systolic BP\n",
    "    ]),\n",
    "    'diastolic_bp': Column(int, checks=[\n",
    "        Check.in_range(40, 150)  # Reasonable range for diastolic BP\n",
    "    ]),\n",
    "    'heart_rate': Column(int, checks=[\n",
    "        Check.in_range(30, 200)  # Reasonable range for heart rate\n",
    "    ]),\n",
    "    'temperature': Column(float, checks=[\n",
    "        Check.in_range(30.0, 45.0)  # Body temperature in Celsius\n",
    "    ]),\n",
    "    'admission_date': Column(str),\n",
    "    'diagnosis_code': Column(str, checks=[\n",
    "        Check.str_length(min_value=3, max_value=10)  # ICD-10 code length\n",
    "    ])\n",
    "})\n",
    "\n",
    "print(\"Enhanced medical schema with constraints defined\")"
   ]
  },
  {
   "cell_type": "markdown",
   "metadata": {},
   "source": [
    "Let's validate our data against the enhanced schema to see if all medical constraints are satisfied."
   ]
  },
  {
   "cell_type": "code",
   "execution_count": 5,
   "metadata": {},
   "outputs": [
    {
     "name": "stdout",
     "output_type": "stream",
     "text": [
      "Medical data validation successful!\n",
      "All constraints satisfied\n"
     ]
    }
   ],
   "source": [
    "# Validate against enhanced schema\n",
    "try:\n",
    "    validated_medical_data = medical_schema.validate(medical_data)\n",
    "    print(\"Medical data validation successful!\")\n",
    "    print(\"All constraints satisfied\")\n",
    "except pa.errors.SchemaError as e:\n",
    "    print(f\"Validation error: {e}\")"
   ]
  },
  {
   "cell_type": "markdown",
   "metadata": {},
   "source": [
    "Now let's demonstrate data coercion by creating a dataset with mixed data types and showing how Pandera can automatically convert them to the expected types."
   ]
  },
  {
   "cell_type": "code",
   "execution_count": 6,
   "metadata": {},
   "outputs": [
    {
     "name": "stdout",
     "output_type": "stream",
     "text": [
      "Original data types:\n",
      "patient_id         object\n",
      "age                object\n",
      "systolic_bp       float64\n",
      "diastolic_bp       object\n",
      "heart_rate          int64\n",
      "temperature        object\n",
      "admission_date     object\n",
      "diagnosis_code     object\n",
      "dtype: object\n",
      "\n",
      "Data:\n"
     ]
    },
    {
     "data": {
      "text/html": [
       "<div>\n",
       "<style scoped>\n",
       "    .dataframe tbody tr th:only-of-type {\n",
       "        vertical-align: middle;\n",
       "    }\n",
       "\n",
       "    .dataframe tbody tr th {\n",
       "        vertical-align: top;\n",
       "    }\n",
       "\n",
       "    .dataframe thead th {\n",
       "        text-align: right;\n",
       "    }\n",
       "</style>\n",
       "<table border=\"1\" class=\"dataframe\">\n",
       "  <thead>\n",
       "    <tr style=\"text-align: right;\">\n",
       "      <th></th>\n",
       "      <th>patient_id</th>\n",
       "      <th>age</th>\n",
       "      <th>systolic_bp</th>\n",
       "      <th>diastolic_bp</th>\n",
       "      <th>heart_rate</th>\n",
       "      <th>temperature</th>\n",
       "      <th>admission_date</th>\n",
       "      <th>diagnosis_code</th>\n",
       "    </tr>\n",
       "  </thead>\n",
       "  <tbody>\n",
       "    <tr>\n",
       "      <th>0</th>\n",
       "      <td>P006</td>\n",
       "      <td>55</td>\n",
       "      <td>130.0</td>\n",
       "      <td>85</td>\n",
       "      <td>75</td>\n",
       "      <td>37.1</td>\n",
       "      <td>2024-01-20</td>\n",
       "      <td>M25.5</td>\n",
       "    </tr>\n",
       "    <tr>\n",
       "      <th>1</th>\n",
       "      <td>P007</td>\n",
       "      <td>42</td>\n",
       "      <td>125.5</td>\n",
       "      <td>82</td>\n",
       "      <td>80</td>\n",
       "      <td>36.9</td>\n",
       "      <td>2024-01-21</td>\n",
       "      <td>K59.0</td>\n",
       "    </tr>\n",
       "    <tr>\n",
       "      <th>2</th>\n",
       "      <td>P008</td>\n",
       "      <td>71</td>\n",
       "      <td>145.2</td>\n",
       "      <td>92</td>\n",
       "      <td>68</td>\n",
       "      <td>37.5</td>\n",
       "      <td>2024-01-22</td>\n",
       "      <td>F32.9</td>\n",
       "    </tr>\n",
       "  </tbody>\n",
       "</table>\n",
       "</div>"
      ],
      "text/plain": [
       "  patient_id age  systolic_bp diastolic_bp  heart_rate temperature  \\\n",
       "0       P006  55        130.0           85          75        37.1   \n",
       "1       P007  42        125.5           82          80        36.9   \n",
       "2       P008  71        145.2           92          68        37.5   \n",
       "\n",
       "  admission_date diagnosis_code  \n",
       "0     2024-01-20          M25.5  \n",
       "1     2024-01-21          K59.0  \n",
       "2     2024-01-22          F32.9  "
      ]
     },
     "execution_count": 6,
     "metadata": {},
     "output_type": "execute_result"
    }
   ],
   "source": [
    "# Create data with mixed types that need coercion\n",
    "messy_data = pd.DataFrame({\n",
    "    'patient_id': ['P006', 'P007', 'P008'],\n",
    "    'age': ['55', '42', '71'],  # String instead of int\n",
    "    'systolic_bp': [130.0, 125.5, 145.2],  # Float instead of int\n",
    "    'diastolic_bp': ['85', '82', '92'],  # String instead of int\n",
    "    'heart_rate': [75, 80, 68],\n",
    "    'temperature': ['37.1', '36.9', '37.5'],  # String instead of float\n",
    "    'admission_date': ['2024-01-20', '2024-01-21', '2024-01-22'],\n",
    "    'diagnosis_code': ['M25.5', 'K59.0', 'F32.9']\n",
    "})\n",
    "\n",
    "print(\"Original data types:\")\n",
    "print(messy_data.dtypes)\n",
    "print(\"\\nData:\")\n",
    "messy_data"
   ]
  },
  {
   "cell_type": "markdown",
   "metadata": {},
   "source": [
    "We'll create a schema with coercion enabled to automatically convert the data types to the expected format."
   ]
  },
  {
   "cell_type": "code",
   "execution_count": 7,
   "metadata": {},
   "outputs": [
    {
     "name": "stdout",
     "output_type": "stream",
     "text": [
      "Coercion schema defined\n"
     ]
    }
   ],
   "source": [
    "# Schema with coercion\n",
    "coercion_schema = DataFrameSchema({\n",
    "    'patient_id': Column(str),\n",
    "    'age': Column(int, coerce=True),  # Coerce string to int\n",
    "    'systolic_bp': Column(int, coerce=True),  # Coerce float to int\n",
    "    'diastolic_bp': Column(int, coerce=True),  # Coerce string to int\n",
    "    'heart_rate': Column(int),\n",
    "    'temperature': Column(float, coerce=True),  # Coerce string to float\n",
    "    'admission_date': Column(str),\n",
    "    'diagnosis_code': Column(str)\n",
    "})\n",
    "\n",
    "print(\"Coercion schema defined\")"
   ]
  },
  {
   "cell_type": "markdown",
   "metadata": {},
   "source": [
    "Let's apply the coercion schema to our messy data and observe how the data types are automatically converted."
   ]
  },
  {
   "cell_type": "code",
   "execution_count": 8,
   "metadata": {},
   "outputs": [
    {
     "name": "stdout",
     "output_type": "stream",
     "text": [
      "Data coercion successful!\n",
      "\n",
      "Coerced data types:\n",
      "patient_id         object\n",
      "age                 int64\n",
      "systolic_bp         int64\n",
      "diastolic_bp        int64\n",
      "heart_rate          int64\n",
      "temperature       float64\n",
      "admission_date     object\n",
      "diagnosis_code     object\n",
      "dtype: object\n",
      "\n",
      "Coerced data:\n",
      "  patient_id  age  systolic_bp  diastolic_bp  heart_rate  temperature  \\\n",
      "0       P006   55          130            85          75         37.1   \n",
      "1       P007   42          125            82          80         36.9   \n",
      "2       P008   71          145            92          68         37.5   \n",
      "\n",
      "  admission_date diagnosis_code  \n",
      "0     2024-01-20          M25.5  \n",
      "1     2024-01-21          K59.0  \n",
      "2     2024-01-22          F32.9  \n"
     ]
    }
   ],
   "source": [
    "# Apply coercion\n",
    "try:\n",
    "    coerced_data = coercion_schema.validate(messy_data)\n",
    "    print(\"Data coercion successful!\")\n",
    "    print(\"\\nCoerced data types:\")\n",
    "    print(coerced_data.dtypes)\n",
    "    print(\"\\nCoerced data:\")\n",
    "    print(coerced_data)\n",
    "except pa.errors.SchemaError as e:\n",
    "    print(f\"Coercion error: {e}\")"
   ]
  },
  {
   "cell_type": "markdown",
   "metadata": {},
   "source": [
    "Let's create a comprehensive schema that combines coercion with medical constraints and custom validation functions for more complex business rules."
   ]
  },
  {
   "cell_type": "code",
   "execution_count": 9,
   "metadata": {},
   "outputs": [
    {
     "name": "stdout",
     "output_type": "stream",
     "text": [
      "Comprehensive schema with custom validations defined\n"
     ]
    }
   ],
   "source": [
    "# Define custom validation functions\n",
    "def check_bp_relationship(df):\n",
    "    \"\"\"Ensure systolic BP is always higher than diastolic BP\"\"\"\n",
    "    return df['systolic_bp'] > df['diastolic_bp']\n",
    "\n",
    "def check_age_heart_rate(df):\n",
    "    \"\"\"Basic check: very high heart rates should be flagged for elderly patients\"\"\"\n",
    "    elderly = df['age'] > 80\n",
    "    high_hr = df['heart_rate'] > 100\n",
    "    return ~(elderly & high_hr)  # Flag if elderly AND high heart rate\n",
    "\n",
    "# Comprehensive schema\n",
    "comprehensive_schema = DataFrameSchema({\n",
    "    'patient_id': Column(str, checks=[Check.str_matches(r'^P\\d{3}$')]),\n",
    "    'age': Column(int, checks=[Check.in_range(0, 120)], coerce=True),\n",
    "    'systolic_bp': Column(int, checks=[Check.in_range(70, 250)], coerce=True),\n",
    "    'diastolic_bp': Column(int, checks=[Check.in_range(40, 150)], coerce=True),\n",
    "    'heart_rate': Column(int, checks=[Check.in_range(30, 200)]),\n",
    "    'temperature': Column(float, checks=[Check.in_range(30.0, 45.0)], coerce=True),\n",
    "    'admission_date': Column(str),\n",
    "    'diagnosis_code': Column(str, checks=[Check.str_length(min_value=3, max_value=10)])\n",
    "}, checks=[\n",
    "    Check(check_bp_relationship, element_wise=False, \n",
    "          error=\"Systolic BP must be higher than diastolic BP\"),\n",
    "    Check(check_age_heart_rate, element_wise=False,\n",
    "          error=\"High heart rate in elderly patients needs review\")\n",
    "])\n",
    "\n",
    "print(\"Comprehensive schema with custom validations defined\")"
   ]
  },
  {
   "cell_type": "markdown",
   "metadata": {},
   "source": [
    "Let's test our comprehensive schema with the original data to see all validation features in action."
   ]
  },
  {
   "cell_type": "code",
   "execution_count": 10,
   "metadata": {},
   "outputs": [
    {
     "name": "stdout",
     "output_type": "stream",
     "text": [
      "Comprehensive validation successful!\n",
      "Validated 5 rows with all constraints\n",
      "\n",
      "Final validated data:\n",
      "  patient_id  age  systolic_bp  diastolic_bp  heart_rate  temperature  \\\n",
      "0       P001   45          120            80          72         36.5   \n",
      "1       P002   67          140            90          68         37.2   \n",
      "2       P003   23          110            70          85         36.8   \n",
      "3       P004   89          160            95          62         38.1   \n",
      "4       P005   34          115            75          78         36.7   \n",
      "\n",
      "  admission_date diagnosis_code  \n",
      "0     2024-01-15            I10  \n",
      "1     2024-01-16          E11.9  \n",
      "2     2024-01-17          J44.1  \n",
      "3     2024-01-18          N18.6  \n",
      "4     2024-01-19          M79.3  \n"
     ]
    }
   ],
   "source": [
    "# Test comprehensive validation\n",
    "try:\n",
    "    final_validated_data = comprehensive_schema.validate(medical_data)\n",
    "    print(\"Comprehensive validation successful!\")\n",
    "    print(f\"Validated {len(final_validated_data)} rows with all constraints\")\n",
    "    print(\"\\nFinal validated data:\")\n",
    "    print(final_validated_data)\n",
    "except pa.errors.SchemaError as e:\n",
    "    print(f\"Comprehensive validation error: {e}\")"
   ]
  },
  {
   "cell_type": "markdown",
   "metadata": {},
   "source": [
    "Now let's intentionally create invalid data to demonstrate how Pandera catches validation errors."
   ]
  },
  {
   "cell_type": "code",
   "execution_count": 11,
   "metadata": {},
   "outputs": [
    {
     "name": "stdout",
     "output_type": "stream",
     "text": [
      "Invalid test data created:\n"
     ]
    },
    {
     "data": {
      "text/html": [
       "<div>\n",
       "<style scoped>\n",
       "    .dataframe tbody tr th:only-of-type {\n",
       "        vertical-align: middle;\n",
       "    }\n",
       "\n",
       "    .dataframe tbody tr th {\n",
       "        vertical-align: top;\n",
       "    }\n",
       "\n",
       "    .dataframe thead th {\n",
       "        text-align: right;\n",
       "    }\n",
       "</style>\n",
       "<table border=\"1\" class=\"dataframe\">\n",
       "  <thead>\n",
       "    <tr style=\"text-align: right;\">\n",
       "      <th></th>\n",
       "      <th>patient_id</th>\n",
       "      <th>age</th>\n",
       "      <th>systolic_bp</th>\n",
       "      <th>diastolic_bp</th>\n",
       "      <th>heart_rate</th>\n",
       "      <th>temperature</th>\n",
       "      <th>admission_date</th>\n",
       "      <th>diagnosis_code</th>\n",
       "    </tr>\n",
       "  </thead>\n",
       "  <tbody>\n",
       "    <tr>\n",
       "      <th>0</th>\n",
       "      <td>P009</td>\n",
       "      <td>45</td>\n",
       "      <td>120</td>\n",
       "      <td>80</td>\n",
       "      <td>72</td>\n",
       "      <td>36.5</td>\n",
       "      <td>2024-01-25</td>\n",
       "      <td>I10</td>\n",
       "    </tr>\n",
       "    <tr>\n",
       "      <th>1</th>\n",
       "      <td>INVALID</td>\n",
       "      <td>150</td>\n",
       "      <td>90</td>\n",
       "      <td>95</td>\n",
       "      <td>150</td>\n",
       "      <td>50.0</td>\n",
       "      <td>2024-01-26</td>\n",
       "      <td>AB</td>\n",
       "    </tr>\n",
       "    <tr>\n",
       "      <th>2</th>\n",
       "      <td>P011</td>\n",
       "      <td>-5</td>\n",
       "      <td>140</td>\n",
       "      <td>85</td>\n",
       "      <td>68</td>\n",
       "      <td>36.8</td>\n",
       "      <td>2024-01-27</td>\n",
       "      <td>J44.1</td>\n",
       "    </tr>\n",
       "  </tbody>\n",
       "</table>\n",
       "</div>"
      ],
      "text/plain": [
       "  patient_id  age  systolic_bp  diastolic_bp  heart_rate  temperature  \\\n",
       "0       P009   45          120            80          72         36.5   \n",
       "1    INVALID  150           90            95         150         50.0   \n",
       "2       P011   -5          140            85          68         36.8   \n",
       "\n",
       "  admission_date diagnosis_code  \n",
       "0     2024-01-25            I10  \n",
       "1     2024-01-26             AB  \n",
       "2     2024-01-27          J44.1  "
      ]
     },
     "execution_count": 11,
     "metadata": {},
     "output_type": "execute_result"
    }
   ],
   "source": [
    "# Create invalid data to test error handling\n",
    "invalid_data = pd.DataFrame({\n",
    "    'patient_id': ['P009', 'INVALID', 'P011'],  # Invalid patient ID format\n",
    "    'age': [45, 150, -5],  # Invalid ages\n",
    "    'systolic_bp': [120, 90, 140],  # Note: second row has systolic < diastolic\n",
    "    'diastolic_bp': [80, 95, 85],   # This will trigger BP relationship error\n",
    "    'heart_rate': [72, 150, 68],    # High heart rate with high age\n",
    "    'temperature': [36.5, 50.0, 36.8],  # Invalid temperature\n",
    "    'admission_date': ['2024-01-25', '2024-01-26', '2024-01-27'],\n",
    "    'diagnosis_code': ['I10', 'AB', 'J44.1']  # Invalid diagnosis code length\n",
    "})\n",
    "\n",
    "print(\"Invalid test data created:\")\n",
    "invalid_data"
   ]
  },
  {
   "cell_type": "markdown",
   "metadata": {},
   "source": [
    "Let's validate the invalid data and observe how Pandera provides detailed error messages for each constraint violation."
   ]
  },
  {
   "cell_type": "code",
   "execution_count": 12,
   "metadata": {},
   "outputs": [
    {
     "name": "stdout",
     "output_type": "stream",
     "text": [
      "Expected validation errors found:\n",
      "Error summary: Column 'patient_id' failed element-wise validator number 0: str_matches('^P\\d{3}$') failure cases: INVALID\n",
      "\n",
      "Detailed error information:\n",
      "Failed checks: 1 cases\n",
      "   index failure_case\n",
      "0      1      INVALID\n"
     ]
    }
   ],
   "source": [
    "# Test validation with invalid data\n",
    "try:\n",
    "    comprehensive_schema.validate(invalid_data)\n",
    "    print(\"Validation passed (unexpected!)\")\n",
    "except pa.errors.SchemaError as e:\n",
    "    print(\"Expected validation errors found:\")\n",
    "    print(f\"Error summary: {e}\")\n",
    "    print(\"\\nDetailed error information:\")\n",
    "    print(f\"Failed checks: {len(e.failure_cases)} cases\")\n",
    "    print(e.failure_cases)"
   ]
  },
  {
   "cell_type": "markdown",
   "metadata": {},
   "source": [
    "Finally, let's demonstrate how to use Pandera decorators for function-based validation, which is useful for data processing pipelines."
   ]
  },
  {
   "cell_type": "code",
   "execution_count": 13,
   "metadata": {},
   "outputs": [
    {
     "name": "stdout",
     "output_type": "stream",
     "text": [
      "Function-based validation successful!\n",
      "Processed 5 rows\n"
     ]
    }
   ],
   "source": [
    "# Function-based validation using decorators\n",
    "@pa.check_input(comprehensive_schema)\n",
    "@pa.check_output(comprehensive_schema)\n",
    "def process_medical_data(df):\n",
    "    \"\"\"Process medical data with automatic input/output validation\"\"\"\n",
    "    # Add a calculated field: pulse pressure\n",
    "    processed_df = df.copy()\n",
    "    processed_df['pulse_pressure'] = processed_df['systolic_bp'] - processed_df['diastolic_bp']\n",
    "    \n",
    "    # Remove the calculated field for output validation\n",
    "    return processed_df.drop('pulse_pressure', axis=1)\n",
    "\n",
    "# Test the decorated function\n",
    "try:\n",
    "    processed_result = process_medical_data(medical_data)\n",
    "    print(\"Function-based validation successful!\")\n",
    "    print(f\"Processed {len(processed_result)} rows\")\n",
    "except pa.errors.SchemaError as e:\n",
    "    print(f\"Function validation error: {e}\")"
   ]
  },
  {
   "cell_type": "markdown",
   "metadata": {},
   "source": [
    "## Exercise\n",
    "\n",
    "Create your own medical data validation schema for a patient laboratory results dataset. Your schema should include:\n",
    "\n",
    "1. **Patient Information**: patient_id (format: LAB followed by 4 digits), age (0-120), gender (M/F)\n",
    "2. **Lab Values**: \n",
    "   - glucose (mg/dL): normal range 70-200\n",
    "   - cholesterol (mg/dL): range 100-400\n",
    "   - hemoglobin (g/dL): range 8.0-20.0\n",
    "   - white_blood_cell_count (cells/μL): range 3000-12000\n",
    "3. **Test Information**: test_date (string), lab_technician_id (string)\n",
    "\n",
    "**Tasks:**\n",
    "1. Define a comprehensive schema with appropriate data types, coercion, and range constraints\n",
    "2. Add a custom validation function to ensure hemoglobin levels are appropriate for gender (males: 13.5-17.5 g/dL, females: 12.0-15.5 g/dL)\n",
    "3. Create sample data with both valid and invalid entries\n",
    "4. Test your schema and fix any validation errors\n",
    "5. Create a function decorated with your schema that calculates and adds a 'risk_score' based on how many values are outside normal ranges\n",
    "\n",
    "This exercise will help you practice creating domain-specific validation rules for medical laboratory data, which is crucial for ensuring data quality in clinical decision-making systems."
   ]
  }
 ],
 "metadata": {
  "kernelspec": {
   "display_name": "Python 3 (ipykernel)",
   "language": "python",
   "name": "python3"
  },
  "language_info": {
   "codemirror_mode": {
    "name": "ipython",
    "version": 3
   },
   "file_extension": ".py",
   "mimetype": "text/x-python",
   "name": "python",
   "nbconvert_exporter": "python",
   "pygments_lexer": "ipython3",
   "version": "3.11.13"
  }
 },
 "nbformat": 4,
 "nbformat_minor": 4
}
