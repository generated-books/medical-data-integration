{
 "cells": [
  {
   "cell_type": "markdown",
   "metadata": {},
   "source": [
    "# Joins/Merges, Grouping, and Windowing with DuckDB\n",
    "\n",
    "In medical data integration, we often need to combine data from multiple sources, aggregate information, and perform complex analytical queries. This notebook introduces SQL operations using DuckDB for handling medical datasets efficiently."
   ]
  },
  {
   "cell_type": "markdown",
   "metadata": {},
   "source": [
    "First, let's install and import the necessary libraries for our medical data analysis."
   ]
  },
  {
   "cell_type": "markdown",
   "metadata": {},
   "source": [
    "Now we'll import the required libraries and set up our DuckDB connection."
   ]
  },
  {
   "cell_type": "code",
   "execution_count": 1,
   "metadata": {},
   "outputs": [],
   "source": [
    "import duckdb\n",
    "import pandas as pd\n",
    "import numpy as np\n",
    "from datetime import datetime, timedelta\n",
    "\n",
    "# Create DuckDB connection\n",
    "conn = duckdb.connect(':memory:')"
   ]
  },
  {
   "cell_type": "markdown",
   "metadata": {},
   "source": [
    "Let's create sample medical datasets that simulate real-world scenarios: patient information, lab results, and medication records."
   ]
  },
  {
   "cell_type": "code",
   "execution_count": 2,
   "metadata": {},
   "outputs": [
    {
     "name": "stdout",
     "output_type": "stream",
     "text": [
      "Patients Table:\n",
      "   patient_id  age gender      diagnosis\n",
      "0           1   45      M   Hypertension\n",
      "1           2   32      F       Diabetes\n",
      "2           3   67      M  Heart Disease\n",
      "3           4   23      F       Diabetes\n",
      "4           5   78      M   Hypertension\n"
     ]
    }
   ],
   "source": [
    "# Create patients table\n",
    "patients = pd.DataFrame({\n",
    "    'patient_id': [1, 2, 3, 4, 5],\n",
    "    'age': [45, 32, 67, 23, 78],\n",
    "    'gender': ['M', 'F', 'M', 'F', 'M'],\n",
    "    'diagnosis': ['Hypertension', 'Diabetes', 'Heart Disease', 'Diabetes', 'Hypertension']\n",
    "})\n",
    "\n",
    "print(\"Patients Table:\")\n",
    "print(patients)"
   ]
  },
  {
   "cell_type": "markdown",
   "metadata": {},
   "source": [
    "Next, we'll create a lab results table with multiple measurements per patient over time."
   ]
  },
  {
   "cell_type": "code",
   "execution_count": 3,
   "metadata": {},
   "outputs": [
    {
     "name": "stdout",
     "output_type": "stream",
     "text": [
      "Lab Results Table:\n",
      "    patient_id   test_date       test_type  result_value\n",
      "0            1  2024-01-15   Blood Glucose         120.0\n",
      "1            1  2024-02-15  Blood Pressure         140.0\n",
      "2            2  2024-01-10   Blood Glucose         180.0\n",
      "3            2  2024-02-10           HbA1c           7.2\n",
      "4            3  2024-01-20     Cholesterol         220.0\n",
      "5            3  2024-02-20  Blood Pressure         160.0\n",
      "6            4  2024-01-25   Blood Glucose          95.0\n",
      "7            4  2024-02-25           HbA1c           6.8\n",
      "8            5  2024-01-30  Blood Pressure         150.0\n",
      "9            5  2024-02-28     Cholesterol         200.0\n",
      "10           1  2024-03-15   Blood Glucose         110.0\n",
      "11           2  2024-03-10   Blood Glucose         170.0\n"
     ]
    }
   ],
   "source": [
    "# Create lab results table\n",
    "lab_results = pd.DataFrame({\n",
    "    'patient_id': [1, 1, 2, 2, 3, 3, 4, 4, 5, 5, 1, 2],\n",
    "    'test_date': ['2024-01-15', '2024-02-15', '2024-01-10', '2024-02-10', \n",
    "                  '2024-01-20', '2024-02-20', '2024-01-25', '2024-02-25',\n",
    "                  '2024-01-30', '2024-02-28', '2024-03-15', '2024-03-10'],\n",
    "    'test_type': ['Blood Glucose', 'Blood Pressure', 'Blood Glucose', 'HbA1c',\n",
    "                  'Cholesterol', 'Blood Pressure', 'Blood Glucose', 'HbA1c',\n",
    "                  'Blood Pressure', 'Cholesterol', 'Blood Glucose', 'Blood Glucose'],\n",
    "    'result_value': [120, 140, 180, 7.2, 220, 160, 95, 6.8, 150, 200, 110, 170]\n",
    "})\n",
    "\n",
    "print(\"Lab Results Table:\")\n",
    "print(lab_results)"
   ]
  },
  {
   "cell_type": "markdown",
   "metadata": {},
   "source": [
    "Now we'll create a medications table to demonstrate more complex join operations."
   ]
  },
  {
   "cell_type": "code",
   "execution_count": 4,
   "metadata": {},
   "outputs": [
    {
     "name": "stdout",
     "output_type": "stream",
     "text": [
      "Medications Table:\n",
      "   patient_id    medication  start_date    dosage\n",
      "0           1    Lisinopril  2024-01-01      10mg\n",
      "1           2     Metformin  2024-01-05     500mg\n",
      "2           3  Atorvastatin  2024-01-15      20mg\n",
      "3           4       Insulin  2024-01-20  10 units\n",
      "4           5    Amlodipine  2024-01-25       5mg\n",
      "5           2     Glipizide  2024-02-01       5mg\n"
     ]
    }
   ],
   "source": [
    "# Create medications table\n",
    "medications = pd.DataFrame({\n",
    "    'patient_id': [1, 2, 3, 4, 5, 2],\n",
    "    'medication': ['Lisinopril', 'Metformin', 'Atorvastatin', 'Insulin', 'Amlodipine', 'Glipizide'],\n",
    "    'start_date': ['2024-01-01', '2024-01-05', '2024-01-15', '2024-01-20', '2024-01-25', '2024-02-01'],\n",
    "    'dosage': ['10mg', '500mg', '20mg', '10 units', '5mg', '5mg']\n",
    "})\n",
    "\n",
    "print(\"Medications Table:\")\n",
    "print(medications)"
   ]
  },
  {
   "cell_type": "markdown",
   "metadata": {},
   "source": [
    "Let's register these DataFrames as tables in DuckDB so we can perform SQL queries on them."
   ]
  },
  {
   "cell_type": "code",
   "execution_count": 5,
   "metadata": {},
   "outputs": [
    {
     "name": "stdout",
     "output_type": "stream",
     "text": [
      "Tables registered successfully in DuckDB\n"
     ]
    }
   ],
   "source": [
    "# Register DataFrames as DuckDB tables\n",
    "conn.register('patients', patients)\n",
    "conn.register('lab_results', lab_results)\n",
    "conn.register('medications', medications)\n",
    "\n",
    "print(\"Tables registered successfully in DuckDB\")"
   ]
  },
  {
   "cell_type": "markdown",
   "metadata": {},
   "source": [
    "## Inner Join Operations\n",
    "\n",
    "Let's start with a basic inner join to combine patient information with their lab results."
   ]
  },
  {
   "cell_type": "code",
   "execution_count": 6,
   "metadata": {},
   "outputs": [
    {
     "name": "stdout",
     "output_type": "stream",
     "text": [
      "Inner Join - Patients with Lab Results:\n",
      "    patient_id  age      diagnosis   test_date       test_type  result_value\n",
      "0            1   45   Hypertension  2024-01-15   Blood Glucose         120.0\n",
      "1            1   45   Hypertension  2024-02-15  Blood Pressure         140.0\n",
      "2            1   45   Hypertension  2024-03-15   Blood Glucose         110.0\n",
      "3            2   32       Diabetes  2024-01-10   Blood Glucose         180.0\n",
      "4            2   32       Diabetes  2024-02-10           HbA1c           7.2\n",
      "5            2   32       Diabetes  2024-03-10   Blood Glucose         170.0\n",
      "6            3   67  Heart Disease  2024-01-20     Cholesterol         220.0\n",
      "7            3   67  Heart Disease  2024-02-20  Blood Pressure         160.0\n",
      "8            4   23       Diabetes  2024-01-25   Blood Glucose          95.0\n",
      "9            4   23       Diabetes  2024-02-25           HbA1c           6.8\n",
      "10           5   78   Hypertension  2024-01-30  Blood Pressure         150.0\n",
      "11           5   78   Hypertension  2024-02-28     Cholesterol         200.0\n"
     ]
    }
   ],
   "source": [
    "# Inner join patients with lab results\n",
    "query = \"\"\"\n",
    "SELECT p.patient_id, p.age, p.diagnosis, l.test_date, l.test_type, l.result_value\n",
    "FROM patients p\n",
    "INNER JOIN lab_results l ON p.patient_id = l.patient_id\n",
    "ORDER BY p.patient_id, l.test_date\n",
    "\"\"\"\n",
    "\n",
    "result = conn.execute(query).fetchdf()\n",
    "print(\"Inner Join - Patients with Lab Results:\")\n",
    "print(result)"
   ]
  },
  {
   "cell_type": "markdown",
   "metadata": {},
   "source": [
    "Now let's perform a left join to include all patients, even those without lab results."
   ]
  },
  {
   "cell_type": "markdown",
   "metadata": {},
   "source": [
    "## Multiple Table Joins\n",
    "\n",
    "Let's perform a three-way join to combine patients, lab results, and medications for comprehensive patient profiles."
   ]
  },
  {
   "cell_type": "code",
   "execution_count": 7,
   "metadata": {},
   "outputs": [
    {
     "name": "stdout",
     "output_type": "stream",
     "text": [
      "Three-way Join - Complete Patient Profile:\n",
      "   patient_id      diagnosis  age  unique_tests  num_medications\n",
      "0           1   Hypertension   45             2                1\n",
      "1           2       Diabetes   32             2                2\n",
      "2           3  Heart Disease   67             2                1\n",
      "3           4       Diabetes   23             2                1\n",
      "4           5   Hypertension   78             2                1\n"
     ]
    }
   ],
   "source": [
    "# Three-way join for comprehensive patient view\n",
    "query = \"\"\"\n",
    "SELECT DISTINCT p.patient_id, p.diagnosis, p.age,\n",
    "       COUNT(DISTINCT l.test_type) as unique_tests,\n",
    "       COUNT(DISTINCT m.medication) as num_medications\n",
    "FROM patients p\n",
    "LEFT JOIN lab_results l ON p.patient_id = l.patient_id\n",
    "LEFT JOIN medications m ON p.patient_id = m.patient_id\n",
    "GROUP BY p.patient_id, p.diagnosis, p.age\n",
    "ORDER BY p.patient_id\n",
    "\"\"\"\n",
    "\n",
    "result = conn.execute(query).fetchdf()\n",
    "print(\"Three-way Join - Complete Patient Profile:\")\n",
    "print(result)"
   ]
  },
  {
   "cell_type": "markdown",
   "metadata": {},
   "source": [
    "## Grouping and Aggregation\n",
    "\n",
    "Let's group patients by diagnosis and calculate summary statistics for each condition."
   ]
  },
  {
   "cell_type": "code",
   "execution_count": 8,
   "metadata": {},
   "outputs": [
    {
     "name": "stdout",
     "output_type": "stream",
     "text": [
      "Grouping by Diagnosis:\n",
      "       diagnosis  patient_count  avg_age  min_age  max_age\n",
      "0       Diabetes              2     27.5       23       32\n",
      "1   Hypertension              2     61.5       45       78\n",
      "2  Heart Disease              1     67.0       67       67\n"
     ]
    }
   ],
   "source": [
    "# Group by diagnosis with aggregations\n",
    "query = \"\"\"\n",
    "SELECT p.diagnosis,\n",
    "       COUNT(DISTINCT p.patient_id) as patient_count,\n",
    "       AVG(p.age) as avg_age,\n",
    "       MIN(p.age) as min_age,\n",
    "       MAX(p.age) as max_age\n",
    "FROM patients p\n",
    "GROUP BY p.diagnosis\n",
    "ORDER BY patient_count DESC\n",
    "\"\"\"\n",
    "\n",
    "result = conn.execute(query).fetchdf()\n",
    "print(\"Grouping by Diagnosis:\")\n",
    "print(result)"
   ]
  },
  {
   "cell_type": "markdown",
   "metadata": {},
   "source": [
    "Now let's analyze lab results by test type with more detailed aggregations."
   ]
  },
  {
   "cell_type": "code",
   "execution_count": 9,
   "metadata": {},
   "outputs": [
    {
     "name": "stdout",
     "output_type": "stream",
     "text": [
      "Lab Results Analysis by Test Type:\n",
      "        test_type  total_tests  unique_patients  avg_result  std_result  \\\n",
      "0   Blood Glucose            5                3       135.0   37.749172   \n",
      "1  Blood Pressure            3                3       150.0   10.000000   \n",
      "2           HbA1c            2                2         7.0    0.282843   \n",
      "3     Cholesterol            2                2       210.0   14.142136   \n",
      "\n",
      "   min_result  max_result  \n",
      "0        95.0       180.0  \n",
      "1       140.0       160.0  \n",
      "2         6.8         7.2  \n",
      "3       200.0       220.0  \n"
     ]
    }
   ],
   "source": [
    "# Analyze lab results by test type\n",
    "query = \"\"\"\n",
    "SELECT test_type,\n",
    "       COUNT(*) as total_tests,\n",
    "       COUNT(DISTINCT patient_id) as unique_patients,\n",
    "       AVG(result_value) as avg_result,\n",
    "       STDDEV(result_value) as std_result,\n",
    "       MIN(result_value) as min_result,\n",
    "       MAX(result_value) as max_result\n",
    "FROM lab_results\n",
    "GROUP BY test_type\n",
    "ORDER BY total_tests DESC\n",
    "\"\"\"\n",
    "\n",
    "result = conn.execute(query).fetchdf()\n",
    "print(\"Lab Results Analysis by Test Type:\")\n",
    "print(result)"
   ]
  },
  {
   "cell_type": "markdown",
   "metadata": {},
   "source": [
    "## Window Functions\n",
    "\n",
    "Window functions are powerful for analyzing trends over time. Let's track each patient's lab result trends using ROW_NUMBER and LAG functions."
   ]
  },
  {
   "cell_type": "code",
   "execution_count": 10,
   "metadata": {},
   "outputs": [
    {
     "name": "stdout",
     "output_type": "stream",
     "text": [
      "Blood Glucose Trends with Window Functions:\n",
      "   patient_id   test_date      test_type  result_value  test_sequence  \\\n",
      "0           1  2024-01-15  Blood Glucose         120.0              1   \n",
      "1           1  2024-03-15  Blood Glucose         110.0              2   \n",
      "2           2  2024-01-10  Blood Glucose         180.0              1   \n",
      "3           2  2024-03-10  Blood Glucose         170.0              2   \n",
      "4           4  2024-01-25  Blood Glucose          95.0              1   \n",
      "\n",
      "   previous_result  \n",
      "0              NaN  \n",
      "1            120.0  \n",
      "2              NaN  \n",
      "3            180.0  \n",
      "4              NaN  \n"
     ]
    }
   ],
   "source": [
    "# Use window functions to track lab result trends\n",
    "query = \"\"\"\n",
    "SELECT patient_id, test_date, test_type, result_value,\n",
    "       ROW_NUMBER() OVER (PARTITION BY patient_id, test_type ORDER BY test_date) as test_sequence,\n",
    "       LAG(result_value) OVER (PARTITION BY patient_id, test_type ORDER BY test_date) as previous_result\n",
    "FROM lab_results\n",
    "WHERE test_type = 'Blood Glucose'\n",
    "ORDER BY patient_id, test_date\n",
    "\"\"\"\n",
    "\n",
    "result = conn.execute(query).fetchdf()\n",
    "print(\"Blood Glucose Trends with Window Functions:\")\n",
    "print(result)"
   ]
  },
  {
   "cell_type": "markdown",
   "metadata": {},
   "source": [
    "Let's calculate the change in lab values between consecutive tests for each patient."
   ]
  },
  {
   "cell_type": "code",
   "execution_count": 11,
   "metadata": {},
   "outputs": [
    {
     "name": "stdout",
     "output_type": "stream",
     "text": [
      "Blood Glucose Changes Over Time:\n",
      "   patient_id      test_type   test_date  result_value  previous_result  \\\n",
      "0           1  Blood Glucose  2024-01-15         120.0              NaN   \n",
      "1           1  Blood Glucose  2024-03-15         110.0            120.0   \n",
      "2           2  Blood Glucose  2024-01-10         180.0              NaN   \n",
      "3           2  Blood Glucose  2024-03-10         170.0            180.0   \n",
      "4           4  Blood Glucose  2024-01-25          95.0              NaN   \n",
      "\n",
      "   value_change       trend  \n",
      "0           NaN  First Test  \n",
      "1         -10.0   Decreased  \n",
      "2           NaN  First Test  \n",
      "3         -10.0   Decreased  \n",
      "4           NaN  First Test  \n"
     ]
    }
   ],
   "source": [
    "# Calculate changes between consecutive tests\n",
    "query = \"\"\"\n",
    "WITH lab_changes AS (\n",
    "    SELECT patient_id, test_date, test_type, result_value,\n",
    "           LAG(result_value) OVER (PARTITION BY patient_id, test_type ORDER BY test_date) as previous_result,\n",
    "           LAG(test_date) OVER (PARTITION BY patient_id, test_type ORDER BY test_date) as previous_date\n",
    "    FROM lab_results\n",
    ")\n",
    "SELECT patient_id, test_type, test_date, result_value, previous_result,\n",
    "       (result_value - previous_result) as value_change,\n",
    "       CASE \n",
    "           WHEN previous_result IS NULL THEN 'First Test'\n",
    "           WHEN result_value > previous_result THEN 'Increased'\n",
    "           WHEN result_value < previous_result THEN 'Decreased'\n",
    "           ELSE 'No Change'\n",
    "       END as trend\n",
    "FROM lab_changes\n",
    "WHERE test_type = 'Blood Glucose'\n",
    "ORDER BY patient_id, test_date\n",
    "\"\"\"\n",
    "\n",
    "result = conn.execute(query).fetchdf()\n",
    "print(\"Blood Glucose Changes Over Time:\")\n",
    "print(result)"
   ]
  },
  {
   "cell_type": "markdown",
   "metadata": {},
   "source": [
    "Now let's use ranking functions to identify patients with the highest and lowest lab values."
   ]
  },
  {
   "cell_type": "code",
   "execution_count": 12,
   "metadata": {},
   "outputs": [
    {
     "name": "stdout",
     "output_type": "stream",
     "text": [
      "Patient Rankings by Lab Results:\n",
      "   patient_id       test_type  result_value  rank_high_to_low  percentile_rank\n",
      "0           2   Blood Glucose         180.0                 1             1.00\n",
      "1           2   Blood Glucose         170.0                 2             0.75\n",
      "2           1   Blood Glucose         120.0                 3             0.50\n",
      "3           1   Blood Glucose         110.0                 4             0.25\n",
      "4           4   Blood Glucose          95.0                 5             0.00\n",
      "5           3  Blood Pressure         160.0                 1             1.00\n",
      "6           5  Blood Pressure         150.0                 2             0.50\n",
      "7           1  Blood Pressure         140.0                 3             0.00\n"
     ]
    }
   ],
   "source": [
    "# Ranking patients by lab results\n",
    "query = \"\"\"\n",
    "SELECT patient_id, test_type, result_value,\n",
    "       RANK() OVER (PARTITION BY test_type ORDER BY result_value DESC) as rank_high_to_low,\n",
    "       PERCENT_RANK() OVER (PARTITION BY test_type ORDER BY result_value) as percentile_rank\n",
    "FROM lab_results\n",
    "WHERE test_type IN ('Blood Glucose', 'Blood Pressure')\n",
    "ORDER BY test_type, rank_high_to_low\n",
    "\"\"\"\n",
    "\n",
    "result = conn.execute(query).fetchdf()\n",
    "print(\"Patient Rankings by Lab Results:\")\n",
    "print(result)"
   ]
  },
  {
   "cell_type": "markdown",
   "metadata": {},
   "source": [
    "## Moving Averages and Running Totals\n",
    "\n",
    "Let's calculate moving averages for lab results to smooth out fluctuations and identify trends."
   ]
  },
  {
   "cell_type": "code",
   "execution_count": 13,
   "metadata": {},
   "outputs": [
    {
     "name": "stdout",
     "output_type": "stream",
     "text": [
      "Moving Averages for Blood Glucose:\n",
      "   patient_id   test_date      test_type  result_value  moving_avg_2_tests  \\\n",
      "0           1  2024-01-15  Blood Glucose         120.0               120.0   \n",
      "1           1  2024-03-15  Blood Glucose         110.0               115.0   \n",
      "2           2  2024-01-10  Blood Glucose         180.0               180.0   \n",
      "3           2  2024-03-10  Blood Glucose         170.0               175.0   \n",
      "4           4  2024-01-25  Blood Glucose          95.0                95.0   \n",
      "\n",
      "   cumulative_avg  \n",
      "0           120.0  \n",
      "1           115.0  \n",
      "2           180.0  \n",
      "3           175.0  \n",
      "4            95.0  \n"
     ]
    }
   ],
   "source": [
    "# Calculate moving averages for lab results\n",
    "query = \"\"\"\n",
    "SELECT patient_id, test_date, test_type, result_value,\n",
    "       AVG(result_value) OVER (\n",
    "           PARTITION BY patient_id, test_type \n",
    "           ORDER BY test_date \n",
    "           ROWS BETWEEN 1 PRECEDING AND CURRENT ROW\n",
    "       ) as moving_avg_2_tests,\n",
    "       AVG(result_value) OVER (\n",
    "           PARTITION BY patient_id, test_type \n",
    "           ORDER BY test_date \n",
    "           ROWS BETWEEN UNBOUNDED PRECEDING AND CURRENT ROW\n",
    "       ) as cumulative_avg\n",
    "FROM lab_results\n",
    "WHERE test_type = 'Blood Glucose'\n",
    "ORDER BY patient_id, test_date\n",
    "\"\"\"\n",
    "\n",
    "result = conn.execute(query).fetchdf()\n",
    "print(\"Moving Averages for Blood Glucose:\")\n",
    "print(result)"
   ]
  },
  {
   "cell_type": "markdown",
   "metadata": {},
   "source": [
    "## Advanced Analytics: Patient Risk Scoring\n",
    "\n",
    "Let's create a comprehensive query that combines multiple concepts to generate risk scores for patients."
   ]
  },
  {
   "cell_type": "code",
   "execution_count": 14,
   "metadata": {},
   "outputs": [
    {
     "name": "stdout",
     "output_type": "stream",
     "text": [
      "Patient Risk Assessment:\n",
      "   patient_id      diagnosis  age  avg_glucose  max_bp  medication_count  \\\n",
      "0           3  Heart Disease   67          NaN   160.0                 2   \n",
      "1           5   Hypertension   78          NaN   150.0                 2   \n",
      "2           2       Diabetes   32        175.0     NaN                 6   \n",
      "3           1   Hypertension   45        115.0   140.0                 3   \n",
      "4           4       Diabetes   23         95.0     NaN                 2   \n",
      "\n",
      "   risk_score  risk_rank  \n",
      "0           5          1  \n",
      "1           5          1  \n",
      "2           4          3  \n",
      "3           1          4  \n",
      "4           1          4  \n"
     ]
    }
   ],
   "source": [
    "# Complex query for patient risk assessment\n",
    "query = \"\"\"\n",
    "WITH patient_metrics AS (\n",
    "    SELECT p.patient_id, p.age, p.diagnosis,\n",
    "           COUNT(l.test_date) as total_tests,\n",
    "           AVG(CASE WHEN l.test_type = 'Blood Glucose' THEN l.result_value END) as avg_glucose,\n",
    "           MAX(CASE WHEN l.test_type = 'Blood Pressure' THEN l.result_value END) as max_bp,\n",
    "           COUNT(m.medication) as medication_count\n",
    "    FROM patients p\n",
    "    LEFT JOIN lab_results l ON p.patient_id = l.patient_id\n",
    "    LEFT JOIN medications m ON p.patient_id = m.patient_id\n",
    "    GROUP BY p.patient_id, p.age, p.diagnosis\n",
    ")\n",
    "SELECT patient_id, diagnosis, age,\n",
    "       avg_glucose, max_bp, medication_count,\n",
    "       -- Simple risk scoring based on multiple factors\n",
    "       (CASE WHEN age > 65 THEN 2 ELSE 0 END +\n",
    "        CASE WHEN avg_glucose > 140 THEN 3 ELSE 0 END +\n",
    "        CASE WHEN max_bp > 140 THEN 2 ELSE 0 END +\n",
    "        CASE WHEN medication_count > 1 THEN 1 ELSE 0 END) as risk_score,\n",
    "       RANK() OVER (ORDER BY \n",
    "           (CASE WHEN age > 65 THEN 2 ELSE 0 END +\n",
    "            CASE WHEN avg_glucose > 140 THEN 3 ELSE 0 END +\n",
    "            CASE WHEN max_bp > 140 THEN 2 ELSE 0 END +\n",
    "            CASE WHEN medication_count > 1 THEN 1 ELSE 0 END) DESC\n",
    "       ) as risk_rank\n",
    "FROM patient_metrics\n",
    "ORDER BY risk_score DESC, patient_id\n",
    "\"\"\"\n",
    "\n",
    "result = conn.execute(query).fetchdf()\n",
    "print(\"Patient Risk Assessment:\")\n",
    "print(result)"
   ]
  },
  {
   "cell_type": "markdown",
   "metadata": {},
   "source": [
    "Finally, let's clean up our DuckDB connection."
   ]
  },
  {
   "cell_type": "code",
   "execution_count": 15,
   "metadata": {},
   "outputs": [
    {
     "name": "stdout",
     "output_type": "stream",
     "text": [
      "DuckDB connection closed successfully\n"
     ]
    }
   ],
   "source": [
    "# Close the DuckDB connection\n",
    "conn.close()\n",
    "print(\"DuckDB connection closed successfully\")"
   ]
  },
  {
   "cell_type": "markdown",
   "metadata": {},
   "source": [
    "## Exercise\n",
    "\n",
    "Create a comprehensive analysis using the concepts learned in this notebook:\n",
    "\n",
    "1. **Data Setup**: Create three new tables - `hospitals` (hospital_id, name, location), `doctors` (doctor_id, name, specialty, hospital_id), and `appointments` (appointment_id, patient_id, doctor_id, appointment_date, diagnosis_code).\n",
    "\n",
    "2. **Join Operations**: Write queries to:\n",
    "   - Find all appointments with patient names, doctor names, and hospital information\n",
    "   - Identify patients who have never had an appointment (use appropriate join)\n",
    "\n",
    "3. **Grouping and Aggregation**: \n",
    "   - Calculate the number of appointments per hospital and specialty\n",
    "   - Find the average age of patients by diagnosis\n",
    "\n",
    "4. **Window Functions**:\n",
    "   - Rank doctors by the number of appointments they have\n",
    "   - For each patient, show their appointment history with sequence numbers\n",
    "   - Calculate a 3-appointment moving average of patient ages for each doctor\n",
    "\n",
    "5. **Advanced Analysis**: Create a query that identifies the top 3 busiest hospitals and shows trends in appointment volume over time using window functions.\n",
    "\n",
    "Bonus: Implement a patient follow-up analysis that identifies patients who haven't had an appointment in the last 90 days but have chronic conditions requiring regular monitoring."
   ]
  }
 ],
 "metadata": {
  "kernelspec": {
   "display_name": "Python 3 (ipykernel)",
   "language": "python",
   "name": "python3"
  },
  "language_info": {
   "codemirror_mode": {
    "name": "ipython",
    "version": 3
   },
   "file_extension": ".py",
   "mimetype": "text/x-python",
   "name": "python",
   "nbconvert_exporter": "python",
   "pygments_lexer": "ipython3",
   "version": "3.11.13"
  }
 },
 "nbformat": 4,
 "nbformat_minor": 4
}
