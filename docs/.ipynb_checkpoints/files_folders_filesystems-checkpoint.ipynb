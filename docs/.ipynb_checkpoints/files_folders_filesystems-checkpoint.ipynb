
{
  "cells": [
    {
      "cell_type": "markdown",
      "metadata": {},
      "source": [
        "# Files, Folders, and Filesystems in Medical Data Integration\n",
        "\n",
        "Understanding how to work with files and folders is fundamental for medical data integration. Medical data often comes in various formats (DICOM images, CSV lab results, HL7 messages, etc.) stored across different locations. This notebook covers essential concepts and practical skills for managing medical data files programmatically."
      ]
    },
    {
      "cell_type": "markdown",
      "metadata": {},
      "source": [
        "## Working with the Current Directory\n",
        "\n",
        "Let's start by understanding where we are in the filesystem. The current working directory is where Python looks for files by default."
      ]
    },
    {
      "cell_type": "code",
      "execution_count": null,
      "metadata": {},
      "outputs": [],
      "source": [
        "import os\n",
        "\n",
        "current_directory = os.getcwd()\n",
        "print(f\"Current working directory: {current_directory}\")"
      ]
    },
    {
      "cell_type": "markdown",
      "metadata": {},
      "source": [
        "## Creating a Medical Data Directory Structure\n",
        "\n",
        "Medical data often requires organized folder structures. Let's create a typical hierarchy for storing patient data, lab results, and imaging files."
      ]
    },
    {
      "cell_type": "code",
      "execution_count": null,
      "metadata": {},
      "outputs": [],
      "source": [
        "# Define the directory structure\n",
        "base_dir = \"medical_data\"\n",
        "subdirectories = [\n",
        "    \"patient_records\",\n",
        "    \"lab_results\",\n",
        "    \"imaging/dicom\",\n",
        "    \"imaging/processed\",\n",
        "    \"reports\"\n",
        "]"
      ]
    },
    {
      "cell_type": "markdown",
      "metadata": {},
      "source": [
        "Now let's create these directories. The `os.makedirs()` function can create nested directories, and `exist_ok=True` prevents errors if the directory already exists."
      ]
    },
    {
      "cell_type": "code",
      "execution_count": null,
      "metadata": {},
      "outputs": [],
      "source": [
        "# Create the base directory\n",
        "os.makedirs(base_dir, exist_ok=True)\n",
        "\n",
        "# Create subdirectories\n",
        "for subdir in subdirectories:\n",
        "    path = os.path.join(base_dir, subdir)\n",
        "    os.makedirs(path, exist_ok=True)\n",
        "    print(f\"Created: {path}\")"
      ]
    },
    {
      "cell_type": "markdown",
      "metadata": {},
      "source": [
        "## Listing Directory Contents\n",
        "\n",
        "Let's explore what's in our medical data directory. This is useful when you need to process multiple files or check what data is available."
      ]
    },
    {
      "cell_type": "code",
      "execution_count": null,
      "metadata": {},
      "outputs": [],
      "source": [
        "# List all items in the medical_data directory\n",
        "items = os.listdir(base_dir)\n",
        "print(\"Contents of medical_data directory:\")\n",
        "for item in items:\n",
        "    print(f\"  - {item}\")"
      ]
    },
    {
      "cell_type": "markdown",
      "metadata": {},
      "source": [
        "## Creating Sample Medical Data Files\n",
        "\n",
        "Let's create some sample files to simulate a real medical data environment. We'll create patient records in CSV format and a simple text report."
      ]
    },
    {
      "cell_type": "code",
      "execution_count": null,
      "metadata": {},
      "outputs": [],
      "source": [
        "# Create a sample patient record CSV\n",
        "import csv\n",
        "\n",
        "patient_data = [\n",
        "    [\"PatientID\", \"Name\", \"Age\", \"BloodType\", \"AdmissionDate\"],\n",
        "    [\"P001\", \"John Doe\", \"45\", \"A+\", \"2024-01-15\"],\n",
        "    [\"P002\", \"Jane Smith\", \"32\", \"O-\", \"2024-01-16\"],\n",
        "    [\"P003\", \"Bob Johnson\", \"67\", \"B+\", \"2024-01-17\"]\n",
        "]"
      ]
    },
    {
      "cell_type": "markdown",
      "metadata": {},
      "source": [
        "Now we'll write this data to a CSV file in the patient_records directory."
      ]
    },
    {
      "cell_type": "code",
      "execution_count": null,
      "metadata": {},
      "outputs": [],
      "source": [
        "csv_path = os.path.join(base_dir, \"patient_records\", \"patients_2024.csv\")\n",
        "\n",
        "with open(csv_path, 'w', newline='') as file:\n",
        "    writer = csv.writer(file)\n",
        "    writer.writerows(patient_data)\n",
        "\n",
        "print(f\"Created file: {csv_path}\")"
      ]
    },
    {
      "cell_type": "markdown",
      "metadata": {},
      "source": [
        "Let's create a sample lab result file. Lab results often come in text format with specific formatting."
      ]
    },
    {
      "cell_type": "code",
      "execution_count": null,
      "metadata": {},
      "outputs": [],
      "source": [
        "lab_result = \"\"\"LAB RESULT REPORT\n",
        "==================\n",
        "Patient ID: P001\n",
        "Date: 2024-01-15\n",
        "Test: Complete Blood Count (CBC)\n",
        "\n",
        "Results:\n",
        "- WBC: 7.2 K/uL (Normal: 4.5-11.0)\n",
        "- RBC: 4.8 M/uL (Normal: 4.5-5.5)\n",
        "- Hemoglobin: 14.5 g/dL (Normal: 13.5-17.5)\n",
        "- Hematocrit: 42% (Normal: 39-49)\n",
        "\"\"\"\n",
        "\n",
        "lab_path = os.path.join(base_dir, \"lab_results\", \"P001_CBC_20240115.txt\")"
      ]
    },
    {
      "cell_type": "code",
      "execution_count": null,
      "metadata": {},
      "outputs": [],
      "source": [
        "with open(lab_path, 'w') as file:\n",
        "    file.write(lab_result)\n",
        "\n",
        "print(f\"Created file: {lab_path}\")"
      ]
    },
    {
      "cell_type": "markdown",
      "metadata": {},
      "source": [
        "## Reading Files\n",
        "\n",
        "Now let's read the files we created. First, we'll read the CSV file containing patient records."
      ]
    },
    {
      "cell_type": "code",
      "execution_count": null,
      "metadata": {},
      "outputs": [],
      "source": [
        "with open(csv_path, 'r') as file:\n",
        "    reader = csv.DictReader(file)\n",
        "    print(\"Patient Records:\")\n",
        "    for row in reader:\n",
        "        print(f\"  {row['PatientID']}: {row['Name']}, Age {row['Age']}, Blood Type {row['BloodType']}\")"
      ]
    },
    {
      "cell_type": "markdown",
      "metadata": {},
      "source": [
        "Let's read the lab result text file and display its contents."
      ]
    },
    {
      "cell_type": "code",
      "execution_count": null,
      "metadata": {},
      "outputs": [],
      "source": [
        "with open(lab_path, 'r') as file:\n",
        "    content = file.read()\n",
        "    print(\"Lab Result Content:\")\n",
        "    print(content)"
      ]
    },
    {
      "cell_type": "markdown",
      "metadata": {},
      "source": [
        "## File Properties and Metadata\n",
        "\n",
        "Understanding file properties is important for data validation and audit trails in medical systems. Let's examine file size, modification time, and other properties."
      ]
    },
    {
      "cell_type": "code",
      "execution_count": null,
      "metadata": {},
      "outputs": [],
      "source": [
        "import datetime\n",
        "\n",
        "# Get file statistics\n",
        "file_stats = os.stat(csv_path)\n",
        "\n",
        "print(f\"File: {csv_path}\")\n",
        "print(f\"Size: {file_stats.st_size} bytes\")\n",
        "print(f\"Last modified: {datetime.datetime.fromtimestamp(file_stats.st_mtime)}\")"
      ]
    },
    {
      "cell_type": "markdown",
      "metadata": {},
      "source": [
        "## Walking Through Directory Trees\n",
        "\n",
        "When dealing with large medical data repositories, you often need to find all files of a certain type. The `os.walk()` function helps traverse directory trees."
      ]
    },
    {
      "cell_type": "code",
      "execution_count": null,
      "metadata": {},
      "outputs": [],
      "source": [
        "print(\"Complete directory structure:\")\n",
        "for root, dirs, files in os.walk(base_dir):\n",
        "    level = root.replace(base_dir, '').count(os.sep)\n",
        "    indent = ' ' * 2 * level\n",
        "    print(f\"{indent}{os.path.basename(root)}/\")\n",
        "    subindent = ' ' * 2 * (level + 1)\n",
        "    for file in files:\n",
        "        print(f\"{subindent}{file}\")"
      ]
    },
    {
      "cell_type": "markdown",
      "metadata": {},
      "source": [
        "## Using pathlib for Modern File Operations\n",
        "\n",
        "Python's `pathlib` module provides a more intuitive, object-oriented approach to file operations. This is particularly useful for cross-platform medical applications."
      ]
    },
    {
      "cell_type": "code",
      "execution_count": null,
      "metadata": {},
      "outputs": [],
      "source": [
        "from pathlib import Path\n",
        "\n",
        "# Create a Path object\n",
        "medical_path = Path(base_dir)\n",
        "print(f\"Medical data path: {medical_path}\")\n",
        "print(f\"Is directory: {medical_path.is_dir()}\")\n",
        "print(f\"Absolute path: {medical_path.absolute()}\")"
      ]
    },
    {
      "cell_type": "markdown",
      "metadata": {},
      "source": [
        "Let's use pathlib to find all CSV files in our medical data directory."
      ]
    },
    {
      "cell_type": "code",
      "execution_count": null,
      "metadata": {},
      "outputs": [],
      "source": [
        "# Find all CSV files\n",
        "csv_files = list(medical_path.rglob(\"*.csv\"))\n",
        "print(\"CSV files found:\")\n",
        "for csv_file in csv_files:\n",
        "    print(f\"  - {csv_file.relative_to(medical_path)}\")"
      ]
    },
    {
      "cell_type": "markdown",
      "metadata": {},
      "source": [
        "## File Operations: Copying and Moving\n",
        "\n",
        "Medical data often needs to be backed up or moved between systems. Let's demonstrate safe file operations using the `shutil` module."
      ]
    },
    {
      "cell_type": "code",
      "execution_count": null,
      "metadata": {},
      "outputs": [],
      "source": [
        "import shutil\n",
        "\n",
        "# Create a backup directory\n",
        "backup_dir = os.path.join(base_dir, \"backups\")\n",
        "os.makedirs(backup_dir, exist_ok=True)\n",
        "\n",
        "# Copy the patient CSV file to backup\n",
        "src = csv_path\n",
        "dst = os.path.join(backup_dir, \"patients_2024_backup.csv\")\n",
        "shutil.copy2(src, dst)  # copy2 preserves metadata\n",
        "\n",
        "print(f\"Backed up {os.path.basename(src)} to {dst}\")"
      ]
    },
    {
      "cell_type": "markdown",
      "metadata": {},
      "source": [
        "## Handling File Errors\n",
        "\n",
        "In medical systems, robust error handling is crucial. Let's demonstrate how to handle common file-related errors gracefully."
      ]
    },
    {
      "cell_type": "code",
      "execution_count": null,
      "metadata": {},
      "outputs": [],
      "source": [
        "def safe_read_file(filepath):\n",
        "    \"\"\"Safely read a file with error handling\"\"\"\n",
        "    try:\n",
        "        with open(filepath, 'r') as file:\n",
        "            return file.read()\n",
        "    except FileNotFoundError:\n",
        "        print(f\"Error: File '{filepath}' not found\")\n",
        "        return None\n",
        "    except PermissionError:\n",
        "        print(f\"Error: No permission to read '{filepath}'\")\n",
        "        return None\n",
        "    except Exception as e:\n",
        "        print(f\"Unexpected error reading '{filepath}': {e}\")\n",
        "        return None"
      ]
    },
    {
      "cell_type": "code",
      "execution_count": null,
      "metadata": {},
      "outputs": [],
      "source": [
        "# Test with existing file\n",
        "content = safe_read_file(lab_path)\n",
        "if content:\n",
        "    print(\"File read successfully\")\n",
        "\n",
        "# Test with non-existing file\n",
        "content = safe_read_file(\"non_existing_file.txt\")"
      ]
    },
    {
      "cell_type": "markdown",
      "metadata": {},
      "source": [
        "## Cleaning Up Empty Directories\n",
        "\n",
        "Finally, let's create a utility function to clean up empty directories, which is useful for maintaining organized medical data repositories."
      ]
    },
    {
      "cell_type": "code",
      "execution_count": null,
      "metadata": {},
      "outputs": [],
      "source": [
        "def remove_empty_dirs(path):\n",
        "    \"\"\"Remove empty directories recursively\"\"\"\n",
        "    for root, dirs, files in os.walk(path, topdown=False):\n",
        "        for dir_name in dirs:\n",
        "            dir_path = os.path.join(root, dir_name)\n",
        "            try:\n",
        "                if not os.listdir(dir_path):  # Check if directory is empty\n",
        "                    os.rmdir(dir_path)\n",
        "                    print(f\"Removed empty directory: {dir_path}\")\n",
        "            except OSError:\n",
        "                pass  # Directory not empty or other error\n",
        "\n",
        "# Test on our medical data directory\n",
        "remove_empty_dirs(base_dir)"
      ]
    },
    {
      "cell_type": "markdown",
      "metadata": {},
      "source": [
        "## Exercise\n",
        "\n",
        "Create a medical data file organizer that:\n",
        "\n",
        "1. Creates a new directory structure with folders for different years (2022, 2023, 2024)\n",
        "2. Within each year, create subdirectories for each month (01-January, 02-February, etc.)\n",
        "3. Generate sample patient admission files (at least 3) with random dates in 2024\n",
        "4. Create a function that reads all files and organizes them into the correct year/month folders based on their admission date\n",
        "5. Generate a summary report that counts the number of files in each month\n",
        "6. Implement error handling for invalid dates or missing files\n",
        "\n",
        "Bonus: Add functionality to archive (zip) data older than a specified date.\n",
        "\n",
        "This exercise will help you practice file operations, directory management, and data organization – all critical skills for medical data integration."
      ]
    }
  ],
  "metadata": {
    "kernelspec": {
      "display_name": "Python 3",
      "language": "python",
      "name": "python3"
    },
    "language_info": {
      "codemirror_mode": {
        "name": "ipython",
        "version": 3
      },
      "file_extension": ".py",
      "mimetype": "text/x-python",
      "name": "python",
      "nbconvert_exporter": "python",
      "pygments_lexer": "ipython3",
      "version": "3.8.0"
    }
  },
  "nbformat": 4,
  "nbformat_minor": 4
}
