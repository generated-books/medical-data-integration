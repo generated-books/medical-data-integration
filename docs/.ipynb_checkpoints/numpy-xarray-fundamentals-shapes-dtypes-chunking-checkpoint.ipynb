{
 "cells": [
  {
   "cell_type": "markdown",
   "metadata": {},
   "source": [
    "# NumPy/xarray Fundamentals: Shapes, Dtypes, and Chunking\n",
    "\n",
    "In medical data integration, we often work with multi-dimensional datasets such as medical images, time series from monitoring devices, or genomic data. Understanding how to efficiently handle array shapes, data types, and memory management through chunking is crucial for processing large medical datasets.\n",
    "\n",
    "This notebook will cover:\n",
    "- Array shapes and dimensions in medical contexts\n",
    "- Data types and their impact on memory usage\n",
    "- Chunking strategies for large datasets\n",
    "- Practical examples with medical data scenarios"
   ]
  },
  {
   "cell_type": "markdown",
   "metadata": {},
   "source": [
    "Let's start by importing the necessary libraries and setting up our environment."
   ]
  },
  {
   "cell_type": "code",
   "execution_count": 1,
   "metadata": {},
   "outputs": [
    {
     "name": "stdout",
     "output_type": "stream",
     "text": [
      "NumPy version: 2.2.6\n",
      "xarray version: 2025.7.1\n"
     ]
    }
   ],
   "source": [
    "import numpy as np\n",
    "import xarray as xr\n",
    "import pandas as pd\n",
    "import matplotlib.pyplot as plt\n",
    "from datetime import datetime, timedelta\n",
    "print(f\"NumPy version: {np.__version__}\")\n",
    "print(f\"xarray version: {xr.__version__}\")"
   ]
  },
  {
   "cell_type": "markdown",
   "metadata": {},
   "source": [
    "## Understanding Array Shapes in Medical Data\n",
    "\n",
    "Medical data comes in various shapes and dimensions. Let's create some example datasets that represent common medical data structures."
   ]
  },
  {
   "cell_type": "code",
   "execution_count": 2,
   "metadata": {},
   "outputs": [
    {
     "name": "stdout",
     "output_type": "stream",
     "text": [
      "Heart rate data shape: (100,)\n",
      "Dimensions: 1\n"
     ]
    }
   ],
   "source": [
    "# 1D: Patient vital signs over time (e.g., heart rate measurements)\n",
    "heart_rate_1d = np.random.normal(75, 10, 100)  # 100 measurements\n",
    "print(f\"Heart rate data shape: {heart_rate_1d.shape}\")\n",
    "print(f\"Dimensions: {heart_rate_1d.ndim}\")"
   ]
  },
  {
   "cell_type": "markdown",
   "metadata": {},
   "source": [
    "Now let's create a 2D array representing multiple patients' vital signs measurements."
   ]
  },
  {
   "cell_type": "code",
   "execution_count": 3,
   "metadata": {},
   "outputs": [
    {
     "name": "stdout",
     "output_type": "stream",
     "text": [
      "Multiple patients vital signs shape: (50, 100)\n",
      "Number of patients: 50\n",
      "Time points per patient: 100\n"
     ]
    }
   ],
   "source": [
    "# 2D: Multiple patients, multiple time points\n",
    "vital_signs_2d = np.random.normal(75, 10, (50, 100))  # 50 patients, 100 time points\n",
    "print(f\"Multiple patients vital signs shape: {vital_signs_2d.shape}\")\n",
    "print(f\"Number of patients: {vital_signs_2d.shape[0]}\")\n",
    "print(f\"Time points per patient: {vital_signs_2d.shape[1]}\")"
   ]
  },
  {
   "cell_type": "markdown",
   "metadata": {},
   "source": [
    "Medical imaging data typically comes in 3D (single image with depth) or 4D (time series of 3D images). Let's simulate a simple medical image."
   ]
  },
  {
   "cell_type": "code",
   "execution_count": 4,
   "metadata": {},
   "outputs": [
    {
     "name": "stdout",
     "output_type": "stream",
     "text": [
      "CT scan shape: (64, 64, 30)\n",
      "Image dimensions (width x height): 64 x 64\n",
      "Number of slices: 30\n"
     ]
    }
   ],
   "source": [
    "# 3D: Medical image (e.g., CT scan slice stack)\n",
    "ct_scan_3d = np.random.randint(0, 255, (64, 64, 30))  # 64x64 pixels, 30 slices\n",
    "print(f\"CT scan shape: {ct_scan_3d.shape}\")\n",
    "print(f\"Image dimensions (width x height): {ct_scan_3d.shape[0]} x {ct_scan_3d.shape[1]}\")\n",
    "print(f\"Number of slices: {ct_scan_3d.shape[2]}\")"
   ]
  },
  {
   "cell_type": "markdown",
   "metadata": {},
   "source": [
    "## Data Types (dtypes) and Memory Efficiency\n",
    "\n",
    "Choosing the right data type is crucial for memory efficiency, especially with large medical datasets. Let's explore how different dtypes affect memory usage."
   ]
  },
  {
   "cell_type": "code",
   "execution_count": 5,
   "metadata": {},
   "outputs": [
    {
     "name": "stdout",
     "output_type": "stream",
     "text": [
      "float64 memory usage: 7.63 MB\n",
      "float32 memory usage: 3.81 MB\n",
      "uint8 memory usage: 0.95 MB\n"
     ]
    }
   ],
   "source": [
    "# Create the same data with different dtypes\n",
    "data_size = (1000, 1000)\n",
    "image_float64 = np.random.rand(*data_size).astype(np.float64)\n",
    "image_float32 = np.random.rand(*data_size).astype(np.float32)\n",
    "image_uint8 = (np.random.rand(*data_size) * 255).astype(np.uint8)\n",
    "\n",
    "print(f\"float64 memory usage: {image_float64.nbytes / 1024**2:.2f} MB\")\n",
    "print(f\"float32 memory usage: {image_float32.nbytes / 1024**2:.2f} MB\")\n",
    "print(f\"uint8 memory usage: {image_uint8.nbytes / 1024**2:.2f} MB\")"
   ]
  },
  {
   "cell_type": "markdown",
   "metadata": {},
   "source": [
    "Let's examine the precision and range differences between these data types."
   ]
  },
  {
   "cell_type": "code",
   "execution_count": 6,
   "metadata": {},
   "outputs": [
    {
     "name": "stdout",
     "output_type": "stream",
     "text": [
      "float64:\n",
      "  Range: -1.7976931348623157e+308 to 1.7976931348623157e+308\n",
      "  Machine epsilon: 2.220446049250313e-16\n",
      "\n",
      "float32:\n",
      "  Range: -3.4028234663852886e+38 to 3.4028234663852886e+38\n",
      "  Machine epsilon: 1.1920928955078125e-07\n",
      "\n",
      "uint8:\n",
      "  Range: 0 to 255\n",
      "\n",
      "int16:\n",
      "  Range: -32768 to 32767\n",
      "\n"
     ]
    }
   ],
   "source": [
    "# Examine dtype properties\n",
    "dtypes_info = [np.float64, np.float32, np.uint8, np.int16]\n",
    "\n",
    "for dtype in dtypes_info:\n",
    "    info = np.iinfo(dtype) if np.issubdtype(dtype, np.integer) else np.finfo(dtype)\n",
    "    print(f\"{dtype.__name__}:\")\n",
    "    if hasattr(info, 'min') and hasattr(info, 'max'):\n",
    "        print(f\"  Range: {info.min} to {info.max}\")\n",
    "    if hasattr(info, 'eps'):\n",
    "        print(f\"  Machine epsilon: {info.eps}\")\n",
    "    print()"
   ]
  },
  {
   "cell_type": "markdown",
   "metadata": {},
   "source": [
    "## Introduction to xarray\n",
    "\n",
    "xarray provides labeled, multi-dimensional arrays that are perfect for medical data with meaningful dimension names and coordinates."
   ]
  },
  {
   "cell_type": "code",
   "execution_count": 7,
   "metadata": {},
   "outputs": [
    {
     "name": "stdout",
     "output_type": "stream",
     "text": [
      "Data shape: (10, 24, 4)\n"
     ]
    },
    {
     "name": "stderr",
     "output_type": "stream",
     "text": [
      "C:\\Users\\rober\\AppData\\Local\\Temp\\ipykernel_22572\\2789027682.py:2: FutureWarning: 'H' is deprecated and will be removed in a future version, please use 'h' instead.\n",
      "  time_coords = pd.date_range('2024-01-01 08:00', periods=24, freq='H')\n"
     ]
    }
   ],
   "source": [
    "# Create time coordinates for patient monitoring data\n",
    "time_coords = pd.date_range('2024-01-01 08:00', periods=24, freq='H')\n",
    "patient_ids = [f'P{i:03d}' for i in range(1, 11)]  # 10 patients\n",
    "vital_types = ['heart_rate', 'blood_pressure_sys', 'blood_pressure_dia', 'temperature']\n",
    "\n",
    "# Create sample vital signs data\n",
    "data = np.random.normal(loc=[75, 120, 80, 98.6], scale=[10, 15, 10, 1], \n",
    "                       size=(len(patient_ids), len(time_coords), len(vital_types)))\n",
    "\n",
    "print(f\"Data shape: {data.shape}\")"
   ]
  },
  {
   "cell_type": "markdown",
   "metadata": {},
   "source": [
    "Now let's create an xarray DataArray with meaningful dimension names and coordinates."
   ]
  },
  {
   "cell_type": "code",
   "execution_count": 8,
   "metadata": {},
   "outputs": [
    {
     "name": "stdout",
     "output_type": "stream",
     "text": [
      "<xarray.DataArray 'vital_signs' (patient: 10, time: 24, vital_type: 4)> Size: 8kB\n",
      "array([[[ 65.13005412, 100.68613399,  76.38402051,  98.2139103 ],\n",
      "        [103.46033082, 155.3279092 ,  83.36323077, 100.00836035],\n",
      "        [ 90.17108849, 103.89485418,  65.6699318 ,  97.99232973],\n",
      "        [ 70.59234376,  83.97357945,  64.77346437, 100.25435824],\n",
      "        [ 70.19369761, 101.37599968,  66.8500545 ,  99.08535757],\n",
      "        [ 77.62198578, 126.60289334,  85.49730462,  97.65338309],\n",
      "        [ 66.0487098 , 131.4204592 ,  67.15304143,  97.85763074],\n",
      "        [ 64.5659672 , 140.07519774,  89.48429789, 101.81074396],\n",
      "        [ 69.18078888, 130.39977168,  92.97952885,  98.99250613],\n",
      "        [ 75.96186602, 125.56733997,  83.93556917,  97.6790142 ],\n",
      "        [ 73.46839435, 107.97176572,  76.37854963,  99.67875809],\n",
      "        [ 67.3305197 , 106.97513726,  69.75599978,  96.53914534],\n",
      "        [ 61.28614047, 106.78561256,  74.64813157,  98.8676496 ],\n",
      "        [ 68.49015551, 115.35682985,  80.53143268,  98.52155395],\n",
      "        [ 78.34968443, 105.03767981,  95.09435735,  97.57400342],\n",
      "        [ 89.15602599, 120.1426387 ,  76.04714174, 100.34672481],\n",
      "        [ 80.80684659, 106.85965307, 106.97391247,  97.34755038],\n",
      "        [ 69.82282984, 143.77922597,  71.93995003,  97.91736854],\n",
      "        [ 62.80237143, 121.20596497,  63.55864123,  99.20154788],\n",
      "        [ 74.74485297, 109.0509054 ,  84.55524686,  98.37968544],\n",
      "...\n",
      "        [ 80.03082103,  94.30791697,  79.84979892, 100.90510474],\n",
      "        [ 85.16241618, 148.07809897,  77.74059006,  99.02878733],\n",
      "        [ 59.09563196, 129.7004867 ,  90.48543297,  98.85288996],\n",
      "        [ 77.06187542, 120.31618761, 102.63878936,  99.20981853],\n",
      "        [ 80.86475904, 121.24560382,  75.96432264,  98.34574475],\n",
      "        [ 66.42838652, 121.51102471,  70.31921081,  98.04831071],\n",
      "        [ 79.9041346 , 112.72656612,  67.88507034,  99.72361121],\n",
      "        [ 64.07945777, 116.51662836,  81.99050003,  97.20528993],\n",
      "        [ 81.14154044, 115.51957799,  84.76177315,  99.83300136],\n",
      "        [ 71.54264577, 144.04061705,  69.26430154,  98.17130547],\n",
      "        [ 67.42837012, 127.90228364,  67.67893808,  98.449615  ],\n",
      "        [ 92.48905578, 129.99828526,  65.09306834,  97.8413057 ],\n",
      "        [ 73.47656153, 106.21272164,  86.88341953,  98.8752105 ],\n",
      "        [ 68.72141658,  90.87948182,  68.68075631,  97.85813367],\n",
      "        [ 74.24924523, 145.93284145,  86.17512184,  98.68806845],\n",
      "        [ 89.84783477, 107.84074704,  84.36909961,  99.5530639 ],\n",
      "        [ 88.64003642, 131.56867988, 100.89976736,  99.277504  ],\n",
      "        [ 56.85221492, 118.14306139,  86.09786598,  98.09678712],\n",
      "        [ 72.91367253, 125.31708851,  78.74702004,  98.20514419],\n",
      "        [ 56.02162575, 112.70196967,  94.64331278,  99.47161178]]])\n",
      "Coordinates:\n",
      "  * patient     (patient) <U4 160B 'P001' 'P002' 'P003' ... 'P008' 'P009' 'P010'\n",
      "  * time        (time) datetime64[ns] 192B 2024-01-01T08:00:00 ... 2024-01-02...\n",
      "  * vital_type  (vital_type) <U18 288B 'heart_rate' ... 'temperature'\n"
     ]
    }
   ],
   "source": [
    "# Create xarray DataArray\n",
    "vital_signs_xr = xr.DataArray(\n",
    "    data,\n",
    "    dims=['patient', 'time', 'vital_type'],\n",
    "    coords={\n",
    "        'patient': patient_ids,\n",
    "        'time': time_coords,\n",
    "        'vital_type': vital_types\n",
    "    },\n",
    "    name='vital_signs'\n",
    ")\n",
    "\n",
    "print(vital_signs_xr)"
   ]
  },
  {
   "cell_type": "markdown",
   "metadata": {},
   "source": [
    "Let's explore the powerful indexing capabilities of xarray using labels instead of numerical indices."
   ]
  },
  {
   "cell_type": "code",
   "execution_count": 9,
   "metadata": {},
   "outputs": [
    {
     "name": "stdout",
     "output_type": "stream",
     "text": [
      "Patient P001 heart rate over time:\n",
      "<xarray.DataArray 'vital_signs' (time: 24)> Size: 192B\n",
      "array([ 65.13005412, 103.46033082,  90.17108849,  70.59234376,\n",
      "        70.19369761,  77.62198578,  66.0487098 ,  64.5659672 ,\n",
      "        69.18078888,  75.96186602,  73.46839435,  67.3305197 ,\n",
      "        61.28614047,  68.49015551,  78.34968443,  89.15602599,\n",
      "        80.80684659,  69.82282984,  62.80237143,  74.74485297,\n",
      "        90.07606622,  78.88430177,  87.01146857,  83.51381339])\n",
      "Coordinates:\n",
      "    patient     <U4 16B 'P001'\n",
      "  * time        (time) datetime64[ns] 192B 2024-01-01T08:00:00 ... 2024-01-02...\n",
      "    vital_type  <U18 72B 'heart_rate'\n",
      "Shape: (24,)\n"
     ]
    }
   ],
   "source": [
    "# Select specific patient's heart rate data\n",
    "patient_001_hr = vital_signs_xr.sel(patient='P001', vital_type='heart_rate')\n",
    "print(\"Patient P001 heart rate over time:\")\n",
    "print(patient_001_hr)\n",
    "print(f\"Shape: {patient_001_hr.shape}\")"
   ]
  },
  {
   "cell_type": "markdown",
   "metadata": {},
   "source": [
    "We can also select data for specific time ranges, which is very useful for medical data analysis."
   ]
  },
  {
   "cell_type": "code",
   "execution_count": 10,
   "metadata": {},
   "outputs": [
    {
     "name": "stdout",
     "output_type": "stream",
     "text": [
      "Morning vital signs data:\n",
      "Time range: 2024-01-01T08:00:00.000000000 to 2024-01-01T12:00:00.000000000\n",
      "Shape: (10, 5, 4)\n"
     ]
    }
   ],
   "source": [
    "# Select data for a specific time range (morning hours)\n",
    "morning_data = vital_signs_xr.sel(time=slice('2024-01-01 08:00', '2024-01-01 12:00'))\n",
    "print(\"Morning vital signs data:\")\n",
    "print(f\"Time range: {morning_data.time.values[0]} to {morning_data.time.values[-1]}\")\n",
    "print(f\"Shape: {morning_data.shape}\")"
   ]
  },
  {
   "cell_type": "markdown",
   "metadata": {},
   "source": [
    "## Understanding Chunking with Dask\n",
    "\n",
    "For large medical datasets that don't fit in memory, we can use chunking. Let's create a larger dataset and demonstrate chunking strategies."
   ]
  },
  {
   "cell_type": "code",
   "execution_count": 11,
   "metadata": {},
   "outputs": [
    {
     "name": "stdout",
     "output_type": "stream",
     "text": [
      "Dataset dimensions: 100 patients × 86,400,000 timepoints\n",
      "Estimated memory usage (float32): 32.19 GB\n"
     ]
    }
   ],
   "source": [
    "# Create a large simulated dataset (e.g., high-frequency ECG data)\n",
    "# Simulate 100 patients, 24 hours of data, sampled at 1000 Hz\n",
    "n_patients = 100\n",
    "n_hours = 24\n",
    "sampling_rate = 1000  # Hz\n",
    "n_timepoints = n_hours * 3600 * sampling_rate  # Total samples\n",
    "\n",
    "print(f\"Dataset dimensions: {n_patients} patients × {n_timepoints:,} timepoints\")\n",
    "print(f\"Estimated memory usage (float32): {(n_patients * n_timepoints * 4) / 1024**3:.2f} GB\")"
   ]
  },
  {
   "cell_type": "markdown",
   "metadata": {},
   "source": [
    "Instead of creating this large array in memory, let's use dask to create a chunked array that can be processed efficiently."
   ]
  },
  {
   "cell_type": "code",
   "execution_count": 12,
   "metadata": {},
   "outputs": [
    {
     "name": "stdout",
     "output_type": "stream",
     "text": [
      "Chunked array shape: (100, 86400000)\n",
      "Chunk size: ((1, 1, 1, 1, 1, 1, 1, 1, 1, 1, 1, 1, 1, 1, 1, 1, 1, 1, 1, 1, 1, 1, 1, 1, 1, 1, 1, 1, 1, 1, 1, 1, 1, 1, 1, 1, 1, 1, 1, 1, 1, 1, 1, 1, 1, 1, 1, 1, 1, 1, 1, 1, 1, 1, 1, 1, 1, 1, 1, 1, 1, 1, 1, 1, 1, 1, 1, 1, 1, 1, 1, 1, 1, 1, 1, 1, 1, 1, 1, 1, 1, 1, 1, 1, 1, 1, 1, 1, 1, 1, 1, 1, 1, 1, 1, 1, 1, 1, 1, 1), (3600000, 3600000, 3600000, 3600000, 3600000, 3600000, 3600000, 3600000, 3600000, 3600000, 3600000, 3600000, 3600000, 3600000, 3600000, 3600000, 3600000, 3600000, 3600000, 3600000, 3600000, 3600000, 3600000, 3600000))\n",
      "Number of chunks: 2400\n"
     ]
    }
   ],
   "source": [
    "import dask.array as da\n",
    "\n",
    "# Create chunked array - each chunk represents 1 patient, 1 hour of data\n",
    "chunk_size = (1, 3600 * sampling_rate)  # 1 patient, 1 hour of data per chunk\n",
    "large_ecg_data = da.random.normal(0, 1, size=(n_patients, n_timepoints), \n",
    "                                 chunks=chunk_size)\n",
    "\n",
    "print(f\"Chunked array shape: {large_ecg_data.shape}\")\n",
    "print(f\"Chunk size: {large_ecg_data.chunks}\")\n",
    "print(f\"Number of chunks: {large_ecg_data.npartitions}\")"
   ]
  },
  {
   "cell_type": "markdown",
   "metadata": {},
   "source": [
    "Let's create an xarray Dataset with chunked data and see how it handles large datasets efficiently."
   ]
  },
  {
   "cell_type": "code",
   "execution_count": 13,
   "metadata": {},
   "outputs": [
    {
     "name": "stdout",
     "output_type": "stream",
     "text": [
      "<xarray.DataArray 'ecg_signal' (patient: 10, time: 7200)> Size: 576kB\n",
      "dask.array<normal, shape=(10, 7200), dtype=float64, chunksize=(1, 3600), chunktype=numpy.ndarray>\n",
      "Coordinates:\n",
      "  * patient  (patient) <U4 160B 'P001' 'P002' 'P003' ... 'P008' 'P009' 'P010'\n",
      "  * time     (time) datetime64[ns] 58kB 2024-01-01 ... 2024-01-01T01:59:59\n"
     ]
    },
    {
     "name": "stderr",
     "output_type": "stream",
     "text": [
      "C:\\Users\\rober\\AppData\\Local\\Temp\\ipykernel_22572\\976265983.py:8: FutureWarning: 'S' is deprecated and will be removed in a future version, please use 's' instead.\n",
      "  time_coords_small = pd.date_range('2024-01-01', periods=small_n_timepoints, freq='S')\n"
     ]
    }
   ],
   "source": [
    "# Create time coordinates (this would be huge, so let's use a smaller example)\n",
    "# For demonstration, let's use a smaller dataset\n",
    "small_n_timepoints = 3600 * 2  # 2 hours instead of 24\n",
    "small_ecg_data = da.random.normal(0, 1, size=(10, small_n_timepoints), \n",
    "                                 chunks=(1, 3600))\n",
    "\n",
    "# Create xarray with chunked data\n",
    "time_coords_small = pd.date_range('2024-01-01', periods=small_n_timepoints, freq='S')\n",
    "patient_coords = [f'P{i:03d}' for i in range(1, 11)]\n",
    "\n",
    "ecg_xr = xr.DataArray(\n",
    "    small_ecg_data,\n",
    "    dims=['patient', 'time'],\n",
    "    coords={\n",
    "        'patient': patient_coords,\n",
    "        'time': time_coords_small\n",
    "    },\n",
    "    name='ecg_signal'\n",
    ")\n",
    "\n",
    "print(ecg_xr)"
   ]
  },
  {
   "cell_type": "markdown",
   "metadata": {},
   "source": [
    "Let's perform some operations on the chunked data to see how xarray handles computation lazily."
   ]
  },
  {
   "cell_type": "code",
   "execution_count": 14,
   "metadata": {},
   "outputs": [
    {
     "name": "stdout",
     "output_type": "stream",
     "text": [
      "Mean ECG per patient (lazy computation):\n",
      "<xarray.DataArray 'ecg_signal' (patient: 10)> Size: 80B\n",
      "dask.array<mean_agg-aggregate, shape=(10,), dtype=float64, chunksize=(1,), chunktype=numpy.ndarray>\n",
      "Coordinates:\n",
      "  * patient  (patient) <U4 160B 'P001' 'P002' 'P003' ... 'P008' 'P009' 'P010'\n",
      "\n",
      "Actual computed values:\n",
      "<xarray.DataArray 'ecg_signal' (patient: 10)> Size: 80B\n",
      "array([-0.01216887,  0.0106882 ,  0.00050611,  0.00396435,  0.00277604,\n",
      "       -0.0532844 , -0.00868342,  0.00792805, -0.0123627 ,  0.00043925])\n",
      "Coordinates:\n",
      "  * patient  (patient) <U4 160B 'P001' 'P002' 'P003' ... 'P008' 'P009' 'P010'\n"
     ]
    }
   ],
   "source": [
    "# Compute statistics - these operations are lazy until we call .compute()\n",
    "mean_ecg = ecg_xr.mean(dim='time')\n",
    "std_ecg = ecg_xr.std(dim='time')\n",
    "\n",
    "print(\"Mean ECG per patient (lazy computation):\")\n",
    "print(mean_ecg)\n",
    "print(\"\\nActual computed values:\")\n",
    "print(mean_ecg.compute())"
   ]
  },
  {
   "cell_type": "markdown",
   "metadata": {},
   "source": [
    "## Practical Example: Medical Image Analysis\n",
    "\n",
    "Let's create a more realistic example with simulated medical imaging data."
   ]
  },
  {
   "cell_type": "code",
   "execution_count": 15,
   "metadata": {},
   "outputs": [
    {
     "name": "stdout",
     "output_type": "stream",
     "text": [
      "fMRI data shape: (5, 100, 64, 64)\n",
      "Chunks: ((1, 1, 1, 1, 1), (50, 50), (32, 32), (32, 32))\n"
     ]
    }
   ],
   "source": [
    "# Simulate a 4D medical dataset: (patients, time_points, x, y)\n",
    "# Example: fMRI data with multiple patients, time series, and 2D brain slices\n",
    "n_subjects = 5\n",
    "n_timepoints = 100\n",
    "img_width, img_height = 64, 64\n",
    "\n",
    "# Create chunked fMRI-like data\n",
    "fmri_data = da.random.normal(1000, 100, \n",
    "                           size=(n_subjects, n_timepoints, img_width, img_height),\n",
    "                           chunks=(1, 50, 32, 32))\n",
    "\n",
    "print(f\"fMRI data shape: {fmri_data.shape}\")\n",
    "print(f\"Chunks: {fmri_data.chunks}\")"
   ]
  },
  {
   "cell_type": "markdown",
   "metadata": {},
   "source": [
    "Now let's create a proper xarray Dataset with meaningful coordinates and multiple variables."
   ]
  },
  {
   "cell_type": "code",
   "execution_count": 16,
   "metadata": {},
   "outputs": [
    {
     "name": "stdout",
     "output_type": "stream",
     "text": [
      "<xarray.Dataset> Size: 16MB\n",
      "Dimensions:        (subject: 5, time: 100, x: 64, y: 64)\n",
      "Coordinates:\n",
      "  * subject        (subject) <U3 60B 'S01' 'S02' 'S03' 'S04' 'S05'\n",
      "  * time           (time) int64 800B 0 2 4 6 8 10 12 ... 188 190 192 194 196 198\n",
      "  * x              (x) int64 512B 0 1 2 3 4 5 6 7 8 ... 56 57 58 59 60 61 62 63\n",
      "  * y              (y) int64 512B 0 1 2 3 4 5 6 7 8 ... 56 57 58 59 60 61 62 63\n",
      "Data variables:\n",
      "    bold_signal    (subject, time, x, y) float64 16MB dask.array<chunksize=(1, 50, 32, 32), meta=np.ndarray>\n",
      "    subject_age    (subject) int32 20B 55 40 59 38 34\n",
      "    subject_group  (subject) <U7 140B 'control' 'control' ... 'patient'\n"
     ]
    }
   ],
   "source": [
    "# Create coordinates\n",
    "subjects = [f'S{i:02d}' for i in range(1, n_subjects + 1)]\n",
    "timepoints = np.arange(0, n_timepoints * 2, 2)  # TR = 2 seconds\n",
    "x_coords = np.arange(img_width)\n",
    "y_coords = np.arange(img_height)\n",
    "\n",
    "# Create xarray Dataset\n",
    "fmri_dataset = xr.Dataset({\n",
    "    'bold_signal': (['subject', 'time', 'x', 'y'], fmri_data),\n",
    "    'subject_age': (['subject'], np.random.randint(20, 65, n_subjects)),\n",
    "    'subject_group': (['subject'], np.random.choice(['control', 'patient'], n_subjects))\n",
    "}, coords={\n",
    "    'subject': subjects,\n",
    "    'time': timepoints,\n",
    "    'x': x_coords,\n",
    "    'y': y_coords\n",
    "})\n",
    "\n",
    "print(fmri_dataset)"
   ]
  },
  {
   "cell_type": "markdown",
   "metadata": {},
   "source": [
    "Let's perform some typical medical imaging analysis operations on this dataset."
   ]
  },
  {
   "cell_type": "code",
   "execution_count": 17,
   "metadata": {},
   "outputs": [
    {
     "name": "stdout",
     "output_type": "stream",
     "text": [
      "Temporal mean shape: (5, 64, 64)\n",
      "Control subjects: 2\n",
      "Patient subjects: 3\n"
     ]
    }
   ],
   "source": [
    "# Calculate temporal mean for each voxel\n",
    "temporal_mean = fmri_dataset['bold_signal'].mean(dim='time')\n",
    "print(\"Temporal mean shape:\", temporal_mean.shape)\n",
    "\n",
    "# Calculate group averages\n",
    "control_subjects = fmri_dataset.where(fmri_dataset.subject_group == 'control', drop=True)\n",
    "patient_subjects = fmri_dataset.where(fmri_dataset.subject_group == 'patient', drop=True)\n",
    "\n",
    "print(f\"Control subjects: {len(control_subjects.subject)}\")\n",
    "print(f\"Patient subjects: {len(patient_subjects.subject)}\")"
   ]
  },
  {
   "cell_type": "markdown",
   "metadata": {},
   "source": [
    "Finally, let's visualize some of our data to ensure everything looks reasonable."
   ]
  },
  {
   "cell_type": "code",
   "execution_count": 18,
   "metadata": {},
   "outputs": [
    {
     "data": {
      "image/png": "[encoded data removed]",
      "text/plain": [
       "<Figure size 1200x400 with 3 Axes>"
      ]
     },
     "metadata": {},
     "output_type": "display_data"
    }
   ],
   "source": [
    "# Create a simple visualization\n",
    "fig, axes = plt.subplots(1, 2, figsize=(12, 4))\n",
    "\n",
    "# Plot 1: Time series for a single voxel\n",
    "single_voxel_ts = fmri_dataset['bold_signal'].isel(subject=0, x=32, y=32).compute()\n",
    "axes[0].plot(single_voxel_ts.time, single_voxel_ts.values)\n",
    "axes[0].set_title('BOLD Signal Time Series\\n(Subject 1, Voxel 32,32)')\n",
    "axes[0].set_xlabel('Time (seconds)')\n",
    "axes[0].set_ylabel('BOLD Signal')\n",
    "\n",
    "# Plot 2: Spatial map (average over time)\n",
    "spatial_avg = temporal_mean.isel(subject=0).compute()\n",
    "im = axes[1].imshow(spatial_avg.values, cmap='viridis')\n",
    "axes[1].set_title('Average BOLD Signal\\n(Subject 1, Time Average)')\n",
    "plt.colorbar(im, ax=axes[1])\n",
    "\n",
    "plt.tight_layout()\n",
    "plt.show()"
   ]
  },
  {
   "cell_type": "markdown",
   "metadata": {},
   "source": [
    "## Exercise\n",
    "\n",
    "Now it's time to apply what you've learned! Create a medical dataset analysis workflow using the concepts from this notebook.\n",
    "\n",
    "**Task:** Create a simulated longitudinal patient monitoring dataset with the following specifications:\n",
    "\n",
    "1. **Dataset structure:**\n",
    "   - 20 patients (use patient IDs like 'PAT001', 'PAT002', etc.)\n",
    "   - 7 days of monitoring data\n",
    "   - 4 vital signs: heart rate, blood pressure (systolic), respiratory rate, oxygen saturation\n",
    "   - Measurements taken every 15 minutes\n",
    "\n",
    "2. **Data generation:**\n",
    "   - Use appropriate realistic mean values and standard deviations for each vital sign\n",
    "   - Choose an appropriate dtype to balance precision and memory usage\n",
    "   - Add some random patient metadata (age, gender, diagnosis)\n",
    "\n",
    "3. **Analysis tasks:**\n",
    "   - Calculate daily averages for each patient and vital sign\n",
    "   - Find patients with heart rate values outside the normal range (60-100 bpm)\n",
    "   - Create a chunked version of your dataset with appropriate chunk sizes\n",
    "   - Compare memory usage between different dtype choices\n",
    "\n",
    "4. **Bonus:**\n",
    "   - Create a simple visualization showing the trend of one vital sign over the week for 3 different patients\n",
    "   - Calculate correlation between different vital signs\n",
    "\n",
    "Use both NumPy and xarray in your solution, and demonstrate the advantages of using labeled dimensions with xarray for this type of medical data analysis."
   ]
  }
 ],
 "metadata": {
  "kernelspec": {
   "display_name": "Python 3 (ipykernel)",
   "language": "python",
   "name": "python3"
  },
  "language_info": {
   "codemirror_mode": {
    "name": "ipython",
    "version": 3
   },
   "file_extension": ".py",
   "mimetype": "text/x-python",
   "name": "python",
   "nbconvert_exporter": "python",
   "pygments_lexer": "ipython3",
   "version": "3.11.13"
  }
 },
 "nbformat": 4,
 "nbformat_minor": 4
}
