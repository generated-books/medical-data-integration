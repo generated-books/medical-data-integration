
{
 "cells": [
  {
   "cell_type": "markdown",
   "metadata": {},
   "source": [
    "# Path Handling and Portable I/O with pathlib\n",
    "\n",
    "In medical data integration, we often work with files stored in complex directory structures across different operating systems. The `pathlib` module provides an object-oriented, platform-independent way to handle file paths and perform file operations."
   ]
  },
  {
   "cell_type": "markdown",
   "metadata": {},
   "source": [
    "Let's start by importing the pathlib module and creating a Path object for the current directory."
   ]
  },
  {
   "cell_type": "code",
   "execution_count": null,
   "metadata": {},
   "outputs": [],
   "source": [
    "from pathlib import Path\n",
    "\n",
    "current_dir = Path.cwd()\n",
    "print(f\"Current directory: {current_dir}\")"
   ]
  },
  {
   "cell_type": "markdown",
   "metadata": {},
   "source": [
    "Path objects can be created from strings and combined using the `/` operator, which works across all operating systems."
   ]
  },
  {
   "cell_type": "code",
   "execution_count": null,
   "metadata": {},
   "outputs": [],
   "source": [
    "data_folder = Path(\"medical_data\")\n",
    "patient_file = data_folder / \"patients\" / \"patient_001.csv\"\n",
    "print(f\"Patient file path: {patient_file}\")"
   ]
  },
  {
   "cell_type": "markdown",
   "metadata": {},
   "source": [
    "We can check if paths exist and get information about them without worrying about OS-specific commands."
   ]
  },
  {
   "cell_type": "code",
   "execution_count": null,
   "metadata": {},
   "outputs": [],
   "source": [
    "print(f\"Does the path exist? {patient_file.exists()}\")\n",
    "print(f\"Is it a file? {patient_file.is_file()}\")\n",
    "print(f\"Is it a directory? {patient_file.is_dir()}\")"
   ]
  },
  {
   "cell_type": "markdown",
   "metadata": {},
   "source": [
    "Let's create a directory structure typical for medical data projects. The `mkdir()` method with `parents=True` creates all necessary parent directories."
   ]
  },
  {
   "cell_type": "code",
   "execution_count": null,
   "metadata": {},
   "outputs": [],
   "source": [
    "project_root = Path(\"medical_project\")\n",
    "raw_data = project_root / \"data\" / \"raw\"\n",
    "processed_data = project_root / \"data\" / \"processed\"\n",
    "\n",
    "raw_data.mkdir(parents=True, exist_ok=True)\n",
    "processed_data.mkdir(parents=True, exist_ok=True)\n",
    "print(\"Directory structure created successfully\")"
   ]
  },
  {
   "cell_type": "markdown",
   "metadata": {},
   "source": [
    "Path objects provide convenient properties to access different parts of a file path."
   ]
  },
  {
   "cell_type": "code",
   "execution_count": null,
   "metadata": {},
   "outputs": [],
   "source": [
    "sample_file = Path(\"medical_project/data/raw/blood_tests_2023.csv\")\n",
    "print(f\"Name: {sample_file.name}\")\n",
    "print(f\"Stem: {sample_file.stem}\")\n",
    "print(f\"Suffix: {sample_file.suffix}\")\n",
    "print(f\"Parent: {sample_file.parent}\")"
   ]
  },
  {
   "cell_type": "markdown",
   "metadata": {},
   "source": [
    "We can easily change file extensions, which is useful when converting medical data formats."
   ]
  },
  {
   "cell_type": "code",
   "execution_count": null,
   "metadata": {},
   "outputs": [],
   "source": [
    "csv_file = Path(\"patient_data.csv\")\n",
    "json_file = csv_file.with_suffix(\".json\")\n",
    "print(f\"Original: {csv_file}\")\n",
    "print(f\"Converted: {json_file}\")"
   ]
  },
  {
   "cell_type": "markdown",
   "metadata": {},
   "source": [
    "The `glob()` method allows us to find files matching a pattern, useful for batch processing medical data files."
   ]
  },
  {
   "cell_type": "code",
   "execution_count": null,
   "metadata": {},
   "outputs": [],
   "source": [
    "# Create some sample files first\n",
    "for i in range(3):\n",
    "    file_path = raw_data / f\"patient_{i:03d}.txt\"\n",
    "    file_path.touch()\n",
    "\n",
    "# Now find all patient files\n",
    "patient_files = list(raw_data.glob(\"patient_*.txt\"))\n",
    "print(f\"Found {len(patient_files)} patient files:\")\n",
    "for f in patient_files:\n",
    "    print(f\"  - {f.name}\")"
   ]
  },
  {
   "cell_type": "markdown",
   "metadata": {},
   "source": [
    "Pathlib integrates seamlessly with file I/O operations. Here's how to write and read medical data."
   ]
  },
  {
   "cell_type": "code",
   "execution_count": null,
   "metadata": {},
   "outputs": [],
   "source": [
    "# Write patient data\n",
    "patient_info = \"Patient ID: 12345\\nAge: 45\\nDiagnosis: Hypertension\"\n",
    "patient_file = processed_data / \"patient_summary.txt\"\n",
    "patient_file.write_text(patient_info)\n",
    "print(\"Patient data written successfully\")"
   ]
  },
  {
   "cell_type": "code",
   "execution_count": null,
   "metadata": {},
   "outputs": [],
   "source": [
    "# Read the data back\n",
    "content = patient_file.read_text()\n",
    "print(\"File contents:\")\n",
    "print(content)"
   ]
  },
  {
   "cell_type": "markdown",
   "metadata": {},
   "source": [
    "For binary files like medical images, use `read_bytes()` and `write_bytes()` methods."
   ]
  },
  {
   "cell_type": "code",
   "execution_count": null,
   "metadata": {},
   "outputs": [],
   "source": [
    "# Simulate saving binary medical data\n",
    "image_data = b\"\\x89PNG\\r\\n\\x1a\\n\"  # PNG header bytes\n",
    "image_path = raw_data / \"xray_001.png\"\n",
    "image_path.write_bytes(image_data)\n",
    "print(f\"Binary file size: {image_path.stat().st_size} bytes\")"
   ]
  },
  {
   "cell_type": "markdown",
   "metadata": {},
   "source": [
    "Path objects can be converted to strings when needed for compatibility with other libraries."
   ]
  },
  {
   "cell_type": "code",
   "execution_count": null,
   "metadata": {},
   "outputs": [],
   "source": [
    "import pandas as pd\n",
    "\n",
    "# Create a sample CSV file\n",
    "csv_path = processed_data / \"lab_results.csv\"\n",
    "df = pd.DataFrame({\n",
    "    'patient_id': [1, 2, 3],\n",
    "    'glucose': [95, 110, 88]\n",
    "})\n",
    "df.to_csv(str(csv_path), index=False)\n",
    "print(f\"CSV saved to: {csv_path}\")"
   ]
  },
  {
   "cell_type": "markdown",
   "metadata": {},
   "source": [
    "Finally, let's clean up the directory structure we created for this demonstration."
   ]
  },
  {
   "cell_type": "code",
   "execution_count": null,
   "metadata": {},
   "outputs": [],
   "source": [
    "import shutil\n",
    "\n",
    "if project_root.exists():\n",
    "    shutil.rmtree(project_root)\n",
    "    print(\"Cleanup completed\")"
   ]
  },
  {
   "cell_type": "markdown",
   "metadata": {},
   "source": [
    "## Exercise\n",
    "\n",
    "Create a medical data organization system using pathlib:\n",
    "\n",
    "1. Create a directory structure with the following hierarchy:\n",
    "   - `hospital_data/`\n",
    "     - `2023/`\n",
    "       - `radiology/`\n",
    "       - `laboratory/`\n",
    "       - `pharmacy/`\n",
    "\n",
    "2. In each department folder, create 5 dummy files following the pattern: `{department}_report_{001-005}.txt`\n",
    "\n",
    "3. Write a function that:\n",
    "   - Takes a department name as input\n",
    "   - Finds all files for that department\n",
    "   - Creates a summary file listing all found files with their sizes\n",
    "   - Saves the summary in a new `summaries/` directory\n",
    "\n",
    "4. Use the `rglob()` method to find all `.txt` files across all departments and print their total count and combined size in bytes."
   ]
  }
 ],
 "metadata": {
  "kernelspec": {
   "display_name": "Python 3",
   "language": "python",
   "name": "python3"
  },
  "language_info": {
   "codemirror_mode": {
    "name": "ipython",
    "version": 3
   },
   "file_extension": ".py",
   "mimetype": "text/x-python",
   "name": "python",
   "nbconvert_exporter": "python",
   "pygments_lexer": "ipython3",
   "version": "3.8.0"
  }
 },
 "nbformat": 4,
 "nbformat_minor": 4
}
